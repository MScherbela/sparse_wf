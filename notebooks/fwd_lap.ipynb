{
 "cells": [
  {
   "cell_type": "code",
   "execution_count": 1,
   "metadata": {},
   "outputs": [],
   "source": [
    "from folx.api import *"
   ]
  },
  {
   "cell_type": "code",
   "execution_count": 23,
   "metadata": {},
   "outputs": [],
   "source": [
    "def sum_fwd_lap(x: FwdLaplArray, dependencies, n_el: int) -> FwdLaplArray:\n",
    "    out_jac = jnp.zeros((n_el, 3, *x.shape[1:]), x.x.dtype)\n",
    "    jac = x.jacobian.data\n",
    "    jac = jac.reshape((n_el, 3, *jac.shape[1:]))\n",
    "    jac = jnp.swapaxes(jac, 1, 2)\n",
    "    out_jac = out_jac.at[dependencies.T].add(jac)\n",
    "    out_jac = out_jac.reshape(n_el * 3, *x.shape[1:])\n",
    "    y = x.x.sum(0)\n",
    "    y_lapl = x.laplacian.sum(0)\n",
    "    return FwdLaplArray(x=y, jacobian=FwdJacobian(out_jac), laplacian=y_lapl)\n"
   ]
  },
  {
   "cell_type": "code",
   "execution_count": 28,
   "metadata": {},
   "outputs": [],
   "source": [
    "dependencies = jnp.array([\n",
    "    [0, 1, 2, 3],\n",
    "    [0, 1, 2, 3],\n",
    "    [0, 1, 2, 3],\n",
    "])\n",
    "x = FwdLaplArray(\n",
    "    x=jnp.array([1., 2., 3.]),\n",
    "    jacobian=FwdJacobian(np.random.normal(size=(12, 3))),\n",
    "    laplacian=jnp.array([1, 1, 1])\n",
    ")"
   ]
  },
  {
   "cell_type": "code",
   "execution_count": 32,
   "metadata": {},
   "outputs": [],
   "source": [
    "x_hat = FwdLaplArray(\n",
    "    x=x.x,\n",
    "    jacobian=FwdJacobian(\n",
    "        x.jacobian.data,\n",
    "        x0_idx=np.array([\n",
    "            [0, 0, 0, 0],\n",
    "            [1, 1, 1, 1],\n",
    "            [2, 2, 2, 2],\n",
    "            [3, 3, 3, 3],\n",
    "            [4, 4, 4, 4],\n",
    "            [5, 5, 5, 5],\n",
    "            [6, 6, 6, 6],\n",
    "            [7, 7, 7, 7],\n",
    "            [8, 8, 8, 8],\n",
    "            [9, 9, 9, 9],\n",
    "            [10, 10, 10, 10],\n",
    "            [11, 11, 11, 11],\n",
    "        ])[:, :3]\n",
    "    ),\n",
    "    laplacian=x.laplacian\n",
    ")"
   ]
  },
  {
   "cell_type": "code",
   "execution_count": 33,
   "metadata": {},
   "outputs": [
    {
     "data": {
      "text/plain": [
       "Array([-3.8336732 , -1.2847297 , -0.3524232 ,  0.8147084 ,  0.9420111 ,\n",
       "       -2.8378847 , -1.7232125 , -1.0635946 , -2.4166512 , -0.16242611,\n",
       "       -0.38889828,  1.3375041 ], dtype=float32)"
      ]
     },
     "execution_count": 33,
     "metadata": {},
     "output_type": "execute_result"
    }
   ],
   "source": [
    "sum_fwd_lap(x, dependencies, 4).jacobian.data"
   ]
  },
  {
   "cell_type": "code",
   "execution_count": 34,
   "metadata": {},
   "outputs": [],
   "source": [
    "from folx import forward_laplacian"
   ]
  },
  {
   "cell_type": "code",
   "execution_count": 36,
   "metadata": {},
   "outputs": [
    {
     "data": {
      "text/plain": [
       "Array([-3.8336732 , -1.2847297 , -0.3524232 ,  0.8147084 ,  0.9420111 ,\n",
       "       -2.8378847 , -1.7232125 , -1.0635946 , -2.4166515 , -0.16242611,\n",
       "       -0.38889828,  1.3375041 ], dtype=float32)"
      ]
     },
     "execution_count": 36,
     "metadata": {},
     "output_type": "execute_result"
    }
   ],
   "source": [
    "forward_laplacian(lambda x: x.sum(0), disable_jit=True)(x_hat).jacobian.data"
   ]
  },
  {
   "cell_type": "code",
   "execution_count": null,
   "metadata": {},
   "outputs": [],
   "source": []
  }
 ],
 "metadata": {
  "kernelspec": {
   "display_name": "Python 3",
   "language": "python",
   "name": "python3"
  },
  "language_info": {
   "codemirror_mode": {
    "name": "ipython",
    "version": 3
   },
   "file_extension": ".py",
   "mimetype": "text/x-python",
   "name": "python",
   "nbconvert_exporter": "python",
   "pygments_lexer": "ipython3",
   "version": "3.11.8"
  }
 },
 "nbformat": 4,
 "nbformat_minor": 2
}
