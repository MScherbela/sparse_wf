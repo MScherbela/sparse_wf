{
 "cells": [
  {
   "cell_type": "code",
   "execution_count": 9,
   "metadata": {},
   "outputs": [],
   "source": [
    "import json\n",
    "from sparse_wf.geometry import Geometry, save_geometries\n",
    "from pathlib import Path\n",
    "import numpy as np"
   ]
  },
  {
   "cell_type": "code",
   "execution_count": 2,
   "metadata": {},
   "outputs": [],
   "source": [
    "root_dir = Path('../data/zhai_et_al_2023')\n",
    "geometries = []\n",
    "for p in root_dir.glob('**/*.xyz'):\n",
    "    geom = Geometry.from_xyz(p)\n",
    "    basis = p.parts[-2]\n",
    "    state, comment = geom.name.split(' , ')\n",
    "    name = f'zhai_et_al_2023_{state}_{basis}'\n",
    "    geom.name = name\n",
    "    geom.comment = comment\n",
    "    geom.charge = -3\n",
    "    geom.spin = 0\n",
    "    geometries.append(geom)"
   ]
  },
  {
   "cell_type": "code",
   "execution_count": 22,
   "metadata": {},
   "outputs": [
    {
     "data": {
      "text/plain": [
       "[<Geometry zhai_et_al_2023_HFe_df2-tzvp, bf4fb3e218b9d176be7e190ba67be6a8__Energy = -5076.012745 H, 180 el>,\n",
       " <Geometry zhai_et_al_2023_HC_df2-tzvp, d2ab5ed9100089164f44218903b1a759__Energy = -5076.012745 H, 180 el>,\n",
       " <Geometry zhai_et_al_2023_HFe2_df2-tzvp, 93016ecccaf601b8ee00c69b76c85261__Energy = -5076.012745 H, 180 el>,\n",
       " <Geometry zhai_et_al_2023_HS_df2-tzvp, 4fb2150a89f58e079cbe1d15e88af16f__Energy = -5076.012745 H, 180 el>,\n",
       " <Geometry zhai_et_al_2023_HFe_df2-svp, ea7feb8dbe897367eb48434b26281a81__Energy = -4717.084045403 H, 180 el>,\n",
       " <Geometry zhai_et_al_2023_HC_df2-svp, cdc209c511c0bc5b02ac2f01d5ae0261__Energy = -4717.139080700 H, 180 el>,\n",
       " <Geometry zhai_et_al_2023_HFe2_df2-svp, b258b494c13f11700e7f393b62912d3b__Energy = -4717.102540727 H, 180 el>,\n",
       " <Geometry zhai_et_al_2023_HS_df2-svp, 84434e1f00f7b94038c9f953f1c0037c__Energy = -4717.096074143 H, 180 el>]"
      ]
     },
     "execution_count": 22,
     "metadata": {},
     "output_type": "execute_result"
    }
   ],
   "source": [
    "geometries"
   ]
  },
  {
   "cell_type": "code",
   "execution_count": 41,
   "metadata": {},
   "outputs": [
    {
     "data": {
      "text/plain": [
       "(array([1.98035515, 1.97549703, 1.84358131, 1.84427177, 1.35299026,\n",
       "        1.8467489 , 1.84327744, 1.09514437, 1.0977951 , 1.09692297,\n",
       "        1.09811315, 1.10381102, 1.0977951 , 1.10088236, 1.09948528,\n",
       "        1.10527184, 1.09811315, 1.10546555, 1.10381102, 1.09514437,\n",
       "        1.10433283, 1.10532869, 1.09692297, 1.10577667, 1.1021446 ,\n",
       "        1.35299026, 1.09803705]),\n",
       " array([ 6,  6,  6,  6,  1,  6,  6,  1,  1,  1,  1,  1,  6,  6,  6,  6,  6,\n",
       "         6,  6,  6,  6,  6,  6,  6,  6, 16,  6]))"
      ]
     },
     "execution_count": 41,
     "metadata": {},
     "output_type": "execute_result"
    },
    {
     "data": {
      "image/png": "[encoded data removed]",
      "text/plain": [
       "<Figure size 640x480 with 1 Axes>"
      ]
     },
     "metadata": {},
     "output_type": "display_data"
    }
   ],
   "source": [
    "import matplotlib.pyplot as plt\n",
    "BOHR_TO_ANGSTROM = 0.52917721067\n",
    "ANGSTROM_TO_BOHR = 1.0 / BOHR_TO_ANGSTROM\n",
    "g = geometries[3]\n",
    "charges = g.Z\n",
    "coords = g.R\n",
    "order = np.argsort(charges)[::-1]\n",
    "charges = charges[order]\n",
    "coords = coords[order]\n",
    "dists = np.linalg.norm(coords[:, None] - coords, axis=-1) + np.diag([np.nan] * dists.shape[0])\n",
    "plt.imshow(dists)\n",
    "idx = np.nanargmin(dists, axis=1)\n",
    "np.nanmin(dists, axis=1) * BOHR_TO_ANGSTROM * BOHR_TO_ANGSTROM, charges[idx]"
   ]
  },
  {
   "cell_type": "code",
   "execution_count": 44,
   "metadata": {},
   "outputs": [
    {
     "name": "stdout",
     "output_type": "stream",
     "text": [
      "2.0696101892693677\n",
      "2.068369607550092\n",
      "2.0727554098522925\n",
      "2.0695229353165465\n",
      "1.1082513464193566\n",
      "1.1081980668833682\n",
      "1.1103094686706254\n",
      "1.109506720272294\n"
     ]
    }
   ],
   "source": [
    "for g in geometries:\n",
    "    dists = np.linalg.norm(g.R - g.R[:, None], axis=-1)\n",
    "    dists += np.diag([np.nan] * dists.shape[0])\n",
    "    print(np.nanmin(dists) * BOHR_TO_ANGSTROM)"
   ]
  },
  {
   "cell_type": "code",
   "execution_count": 45,
   "metadata": {},
   "outputs": [
    {
     "name": "stdout",
     "output_type": "stream",
     "text": [
      "1.0951905471317749\n",
      "1.0945340595579602\n",
      "1.0968549261867888\n",
      "1.0951443743284008\n",
      "0.586461356219467\n",
      "0.5864331619032269\n",
      "0.5875504676116113\n",
      "0.5871256714533124\n"
     ]
    }
   ],
   "source": [
    "for g in geometries:\n",
    "    dists = np.linalg.norm(g.R - g.R[:, None], axis=-1)\n",
    "    dists += np.diag([np.nan] * dists.shape[0])\n",
    "    print(np.nanmin(dists) * BOHR_TO_ANGSTROM * BOHR_TO_ANGSTROM)"
   ]
  },
  {
   "cell_type": "code",
   "execution_count": null,
   "metadata": {},
   "outputs": [],
   "source": []
  },
  {
   "cell_type": "code",
   "execution_count": 6,
   "metadata": {},
   "outputs": [
    {
     "name": "stdout",
     "output_type": "stream",
     "text": [
      "zhai_et_al_2023_HFe_df2-tzvp\n",
      "zhai_et_al_2023_HC_df2-tzvp\n",
      "zhai_et_al_2023_HFe2_df2-tzvp\n",
      "zhai_et_al_2023_HS_df2-tzvp\n",
      "zhai_et_al_2023_HFe_df2-svp\n",
      "zhai_et_al_2023_HC_df2-svp\n",
      "zhai_et_al_2023_HFe2_df2-svp\n",
      "zhai_et_al_2023_HS_df2-svp\n"
     ]
    }
   ],
   "source": [
    "for g in geometries:\n",
    "    print(g.name)"
   ]
  },
  {
   "cell_type": "code",
   "execution_count": 5,
   "metadata": {},
   "outputs": [],
   "source": [
    "save_geometries({g.hash: g for g in geometries})"
   ]
  },
  {
   "cell_type": "code",
   "execution_count": null,
   "metadata": {},
   "outputs": [],
   "source": []
  },
  {
   "cell_type": "code",
   "execution_count": 3,
   "metadata": {},
   "outputs": [],
   "source": [
    "with open('../data/geometries.json') as inp:\n",
    "    geom = json.load(inp)"
   ]
  },
  {
   "cell_type": "code",
   "execution_count": 7,
   "metadata": {},
   "outputs": [],
   "source": [
    "new_structures = []\n",
    "for g in geom.values():\n",
    "    if 'cumulene' in g['name']:\n",
    "        new_structures.append({\n",
    "            'name': g['name'] + '_singlet',\n",
    "            'comment': g['comment'] + '_singlet',\n",
    "            'R': g['R'],\n",
    "            'Z': g['Z'],\n",
    "            'spin': 0\n",
    "        })\n",
    "        new_structures.append({\n",
    "            'name': g['name'] + '_triplet',\n",
    "            'comment': g['comment'] + '_triplet',\n",
    "            'R': g['R'],\n",
    "            'Z': g['Z'],\n",
    "            'spin': 2\n",
    "        })"
   ]
  },
  {
   "cell_type": "code",
   "execution_count": 13,
   "metadata": {},
   "outputs": [],
   "source": [
    "new_structures=[Geometry(**g) for g in new_structures]"
   ]
  },
  {
   "cell_type": "code",
   "execution_count": 17,
   "metadata": {},
   "outputs": [],
   "source": [
    "new_structures = {g.hash: g for g in new_structures}"
   ]
  },
  {
   "cell_type": "code",
   "execution_count": 19,
   "metadata": {},
   "outputs": [],
   "source": [
    "save_geometries(new_structures)"
   ]
  },
  {
   "cell_type": "code",
   "execution_count": null,
   "metadata": {},
   "outputs": [],
   "source": []
  }
 ],
 "metadata": {
  "kernelspec": {
   "display_name": ".venv",
   "language": "python",
   "name": "python3"
  },
  "language_info": {
   "codemirror_mode": {
    "name": "ipython",
    "version": 3
   },
   "file_extension": ".py",
   "mimetype": "text/x-python",
   "name": "python",
   "nbconvert_exporter": "python",
   "pygments_lexer": "ipython3",
   "version": "3.11.9"
  }
 },
 "nbformat": 4,
 "nbformat_minor": 2
}
