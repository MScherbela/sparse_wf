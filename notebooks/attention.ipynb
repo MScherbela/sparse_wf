{
 "cells": [
  {
   "cell_type": "code",
   "execution_count": 1,
   "metadata": {},
   "outputs": [],
   "source": [
    "import jax\n",
    "import jax.numpy as jnp\n",
    "import flax.linen as nn"
   ]
  },
  {
   "cell_type": "code",
   "execution_count": 35,
   "metadata": {},
   "outputs": [],
   "source": [
    "class Model(nn.Module):\n",
    "    @nn.compact\n",
    "    def __call__(self, x):\n",
    "        pos_encoding = jnp.arange(1, 1 + len(x))[:, None] % jnp.arange(1, 4)\n",
    "        q = nn.Dense(8)(pos_encoding)\n",
    "        k = nn.Dense(8)(pos_encoding)\n",
    "        v = nn.Dense(1)(pos_encoding)\n",
    "        return (jax.nn.softmax(q@k.T) @ v)[:, 0]"
   ]
  },
  {
   "cell_type": "code",
   "execution_count": 112,
   "metadata": {},
   "outputs": [],
   "source": [
    "m = Model()\n",
    "x = jnp.arange(5)\n",
    "p = m.init(jax.random.PRNGKey(0), x)"
   ]
  },
  {
   "cell_type": "code",
   "execution_count": 113,
   "metadata": {},
   "outputs": [],
   "source": [
    "target = jnp.arange(1, 6)"
   ]
  },
  {
   "cell_type": "code",
   "execution_count": 114,
   "metadata": {},
   "outputs": [],
   "source": [
    "def loss(params):\n",
    "    # print(m.apply(params, x).shape, target.shape)\n",
    "    # print((m.apply(params, x) - target)**2)\n",
    "    return jnp.mean((m.apply(params, x) - target)**2)"
   ]
  },
  {
   "cell_type": "code",
   "execution_count": 115,
   "metadata": {},
   "outputs": [],
   "source": [
    "import optax\n",
    "optimizer = optax.contrib.prodigy()\n",
    "optimizer = optax.adam(1e-1)\n",
    "state = optimizer.init(p)\n",
    "\n",
    "@jax.jit\n",
    "def update(p, state):\n",
    "    l, g = jax.value_and_grad(loss)(p)\n",
    "    updates, state = optimizer.update(g, state, p)\n",
    "    return l, optax.apply_updates(p, updates), state"
   ]
  },
  {
   "cell_type": "code",
   "execution_count": 116,
   "metadata": {},
   "outputs": [
    {
     "name": "stdout",
     "output_type": "stream",
     "text": [
      "17.24246\n",
      "2.0001512\n",
      "2.0\n",
      "2.0\n",
      "2.0\n",
      "2.0\n",
      "2.0\n",
      "2.0\n",
      "2.0\n",
      "2.0\n"
     ]
    }
   ],
   "source": [
    "for i in range(1000):\n",
    "    l, p, state = update(p, state)\n",
    "    if i % 100 == 0:\n",
    "        print(l)"
   ]
  },
  {
   "cell_type": "code",
   "execution_count": 111,
   "metadata": {},
   "outputs": [
    {
     "data": {
      "text/plain": [
       "Array([3., 3., 3., 3., 3.], dtype=float32)"
      ]
     },
     "execution_count": 111,
     "metadata": {},
     "output_type": "execute_result"
    }
   ],
   "source": [
    "m.apply(p, x)"
   ]
  },
  {
   "cell_type": "code",
   "execution_count": 1,
   "metadata": {},
   "outputs": [],
   "source": [
    "from sparse_wf.system import database"
   ]
  },
  {
   "cell_type": "code",
   "execution_count": 25,
   "metadata": {},
   "outputs": [
    {
     "name": "stdout",
     "output_type": "stream",
     "text": [
      "converged SCF energy = -153.593385663444  <S^2> = 1.2081276e-07  2S+1 = 1.0000002\n"
     ]
    },
    {
     "data": {
      "text/plain": [
       "0.000573075693295344"
      ]
     },
     "execution_count": 25,
     "metadata": {},
     "output_type": "execute_result"
    }
   ],
   "source": [
    "import numpy as np\n",
    "mol = database('5c2f1fbbfe629463e3a4eba88c136f28')\n",
    "mol.basis = '6-311G(d)'\n",
    "mol.build()\n",
    "mf = mol.UHF()\n",
    "mf.run()\n",
    "np.max(np.abs(mf.mo_coeff[0][:, :(mf.mo_occ > 0).sum()] - mf.mo_coeff[1][:, :(mf.mo_occ > 0).sum()]))"
   ]
  },
  {
   "cell_type": "code",
   "execution_count": 13,
   "metadata": {},
   "outputs": [
    {
     "name": "stdout",
     "output_type": "stream",
     "text": [
      "converged SCF energy = -153.593385662982\n"
     ]
    },
    {
     "data": {
      "text/plain": [
       "<pyscf.scf.hf.RHF at 0x7f00c8f67d90>"
      ]
     },
     "execution_count": 13,
     "metadata": {},
     "output_type": "execute_result"
    }
   ],
   "source": [
    "mol = database('5c2f1fbbfe629463e3a4eba88c136f28')\n",
    "mol.basis = '6-311G(d)'\n",
    "mol.build()\n",
    "mf = mol.RHF()\n",
    "mf.run()"
   ]
  },
  {
   "cell_type": "code",
   "execution_count": 24,
   "metadata": {},
   "outputs": [
    {
     "data": {
      "text/plain": [
       "<matplotlib.image.AxesImage at 0x7f00c90f3610>"
      ]
     },
     "execution_count": 24,
     "metadata": {},
     "output_type": "execute_result"
    },
    {
     "data": {
      "image/png": "[encoded data removed]",
      "text/plain": [
       "<Figure size 640x480 with 1 Axes>"
      ]
     },
     "metadata": {},
     "output_type": "display_data"
    }
   ],
   "source": [
    "import matplotlib.pyplot as plt\n",
    "plt.imshow(np.abs(mf.mo_coeff[0][:, :(mf.mo_occ > 0).sum()] - mf.mo_coeff[1][:, :(mf.mo_occ > 0).sum()]))"
   ]
  },
  {
   "cell_type": "code",
   "execution_count": null,
   "metadata": {},
   "outputs": [],
   "source": []
  }
 ],
 "metadata": {
  "kernelspec": {
   "display_name": "Python 3",
   "language": "python",
   "name": "python3"
  },
  "language_info": {
   "codemirror_mode": {
    "name": "ipython",
    "version": 3
   },
   "file_extension": ".py",
   "mimetype": "text/x-python",
   "name": "python",
   "nbconvert_exporter": "python",
   "pygments_lexer": "ipython3",
   "version": "3.11.8"
  }
 },
 "nbformat": 4,
 "nbformat_minor": 2
}
