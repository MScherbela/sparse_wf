{
 "cells": [
  {
   "cell_type": "code",
   "execution_count": 1,
   "metadata": {},
   "outputs": [],
   "source": [
    "import pandas as pd\n",
    "import matplotlib.pyplot as plt\n",
    "\n",
    "from sparse_wf.system import database"
   ]
  },
  {
   "cell_type": "code",
   "execution_count": 2,
   "metadata": {},
   "outputs": [],
   "source": [
    "import jax\n",
    "from jax.scipy.linalg import solve"
   ]
  },
  {
   "cell_type": "code",
   "execution_count": 3,
   "metadata": {},
   "outputs": [
    {
     "name": "stderr",
     "output_type": "stream",
     "text": [
      "2024-10-16 10:22:36.408532: W external/xla/xla/service/gpu/nvptx_compiler.cc:765] The NVIDIA driver's CUDA version is 12.2 which is older than the ptxas CUDA version (12.5.82). Because the driver is older than the ptxas version, XLA is disabling parallel compilation, which may slow down compilation. You should update your NVIDIA driver or use the NVIDIA-provided CUDA forward compatibility packages.\n"
     ]
    }
   ],
   "source": [
    "A = jax.random.normal(jax.random.key(4), (4096, 4096))\n",
    "b = jax.random.normal(jax.random.key(5), (4096,))\n",
    "A = A + A.T"
   ]
  },
  {
   "cell_type": "code",
   "execution_count": 6,
   "metadata": {},
   "outputs": [
    {
     "name": "stdout",
     "output_type": "stream",
     "text": [
      "26.2 ms ± 240 µs per loop (mean ± std. dev. of 7 runs, 10 loops each)\n"
     ]
    }
   ],
   "source": [
    "%timeit jax.block_until_ready(jax.jit(solve)(A, b))"
   ]
  },
  {
   "cell_type": "code",
   "execution_count": 8,
   "metadata": {},
   "outputs": [
    {
     "name": "stdout",
     "output_type": "stream",
     "text": [
      "71.7 ms ± 2.15 ms per loop (mean ± std. dev. of 7 runs, 10 loops each)\n"
     ]
    }
   ],
   "source": [
    "%timeit jax.block_until_ready(jax.jit(lambda A, b: solve(A, b, assume_a=\"pos\"))(A, b))"
   ]
  },
  {
   "cell_type": "code",
   "execution_count": 2,
   "metadata": {},
   "outputs": [],
   "source": [
    "from pyscf import cc\n",
    "from sparse_wf.scf import CASWavefunction, run_cas\n",
    "mol = database(comment='cumulene_C8H4_90deg')\n",
    "# mol.basis = 'aug-cc-pVDZ'\n",
    "# mol.build()\n",
    "# mf = mol.RHF().run()\n",
    "# mycc = cc.CCSD(mf).run()\n",
    "# et = mycc.ccsd_t()\n",
    "# print('CCSD(T) total energy', mycc.e_tot + et)"
   ]
  },
  {
   "cell_type": "code",
   "execution_count": 3,
   "metadata": {},
   "outputs": [
    {
     "data": {
      "text/plain": [
       "(27, 25)"
      ]
     },
     "execution_count": 3,
     "metadata": {},
     "output_type": "execute_result"
    }
   ],
   "source": [
    "mol.spin = 2\n",
    "mol.build()\n",
    "mol.nelec"
   ]
  },
  {
   "cell_type": "code",
   "execution_count": 7,
   "metadata": {},
   "outputs": [],
   "source": [
    "import numpy as np\n",
    "def confs_from_mc(mc, tol: float = 0):\n",
    "    r\"\"\"Retrieve the electronic configurations contributing to a pyscf CAS-SCF solution.\n",
    "\n",
    "    Args:\n",
    "        mc: a pyscf MC-SCF object.\n",
    "        tol (float): default 0, the CI weight threshold.\n",
    "\n",
    "    Returns:\n",
    "        list: coefficients of the configurations\n",
    "        list: the list of configurations\n",
    "    \"\"\"\n",
    "    conf_coeff, *confs = zip(\n",
    "        *mc.fcisolver.large_ci(mc.ci, mc.ncas, mc.nelecas, tol=tol, return_strs=False)\n",
    "    )\n",
    "    confs = [\n",
    "        [\n",
    "            np.tile(np.arange(int(mc.ncore)), (len(conf_coeff), 1)),\n",
    "            np.array(cfs) + mc.ncore,\n",
    "        ]\n",
    "        for cfs in confs\n",
    "    ]\n",
    "    confs = np.concatenate([np.concatenate(cfs, axis=-1) for cfs in confs], axis=-1)\n",
    "    order = np.argsort(np.abs(conf_coeff))[::-1]\n",
    "    conf_coeff = np.array(conf_coeff)[order]\n",
    "    confs = confs[order]\n",
    "    return conf_coeff, confs"
   ]
  },
  {
   "cell_type": "code",
   "execution_count": 15,
   "metadata": {},
   "outputs": [
    {
     "name": "stdout",
     "output_type": "stream",
     "text": [
      "CASCI E = -301.101966075682  E(CI) = -2.24586952785165  S^2 = 2.0000000\n",
      "CASCI E = -301.101966075682  E(CI) = -2.24586952785165  S^2 = 2.0000000\n"
     ]
    }
   ],
   "source": [
    "import pyscf\n",
    "wf = CASWavefunction(mol, 16, 4, 4, 0.0, -1)\n",
    "cas = pyscf.mcscf.CASCI(wf.hf, 4, 4)\n",
    "cas.kernel();"
   ]
  },
  {
   "cell_type": "code",
   "execution_count": 19,
   "metadata": {},
   "outputs": [
    {
     "data": {
      "text/plain": [
       "Array([[ 0,  1,  2,  3,  4,  5,  6,  7,  8,  9, 10, 11, 12, 13, 14, 15,\n",
       "        16, 17, 18, 19, 20, 21, 22, 23, 24, 26,  0,  1,  2,  3,  4,  5,\n",
       "         6,  7,  8,  9, 10, 11, 12, 13, 14, 15, 16, 17, 18, 19, 20, 21,\n",
       "        22, 23, 24, 27],\n",
       "       [ 0,  1,  2,  3,  4,  5,  6,  7,  8,  9, 10, 11, 12, 13, 14, 15,\n",
       "        16, 17, 18, 19, 20, 21, 22, 23, 24, 25,  0,  1,  2,  3,  4,  5,\n",
       "         6,  7,  8,  9, 10, 11, 12, 13, 14, 15, 16, 17, 18, 19, 20, 21,\n",
       "        22, 23, 24, 26],\n",
       "       [ 0,  1,  2,  3,  4,  5,  6,  7,  8,  9, 10, 11, 12, 13, 14, 15,\n",
       "        16, 17, 18, 19, 20, 21, 22, 23, 24, 25,  0,  1,  2,  3,  4,  5,\n",
       "         6,  7,  8,  9, 10, 11, 12, 13, 14, 15, 16, 17, 18, 19, 20, 21,\n",
       "        22, 23, 25, 27],\n",
       "       [ 0,  1,  2,  3,  4,  5,  6,  7,  8,  9, 10, 11, 12, 13, 14, 15,\n",
       "        16, 17, 18, 19, 20, 21, 22, 23, 24, 27,  0,  1,  2,  3,  4,  5,\n",
       "         6,  7,  8,  9, 10, 11, 12, 13, 14, 15, 16, 17, 18, 19, 20, 21,\n",
       "        22, 23, 25, 27],\n",
       "       [ 0,  1,  2,  3,  4,  5,  6,  7,  8,  9, 10, 11, 12, 13, 14, 15,\n",
       "        16, 17, 18, 19, 20, 21, 22, 23, 26, 27,  0,  1,  2,  3,  4,  5,\n",
       "         6,  7,  8,  9, 10, 11, 12, 13, 14, 15, 16, 17, 18, 19, 20, 21,\n",
       "        22, 23, 25, 27],\n",
       "       [ 0,  1,  2,  3,  4,  5,  6,  7,  8,  9, 10, 11, 12, 13, 14, 15,\n",
       "        16, 17, 18, 19, 20, 21, 22, 23, 25, 27,  0,  1,  2,  3,  4,  5,\n",
       "         6,  7,  8,  9, 10, 11, 12, 13, 14, 15, 16, 17, 18, 19, 20, 21,\n",
       "        22, 23, 26, 27],\n",
       "       [ 0,  1,  2,  3,  4,  5,  6,  7,  8,  9, 10, 11, 12, 13, 14, 15,\n",
       "        16, 17, 18, 19, 20, 21, 22, 23, 24, 26,  0,  1,  2,  3,  4,  5,\n",
       "         6,  7,  8,  9, 10, 11, 12, 13, 14, 15, 16, 17, 18, 19, 20, 21,\n",
       "        22, 23, 25, 26],\n",
       "       [ 0,  1,  2,  3,  4,  5,  6,  7,  8,  9, 10, 11, 12, 13, 14, 15,\n",
       "        16, 17, 18, 19, 20, 21, 22, 23, 25, 27,  0,  1,  2,  3,  4,  5,\n",
       "         6,  7,  8,  9, 10, 11, 12, 13, 14, 15, 16, 17, 18, 19, 20, 21,\n",
       "        22, 23, 24, 25],\n",
       "       [ 0,  1,  2,  3,  4,  5,  6,  7,  8,  9, 10, 11, 12, 13, 14, 15,\n",
       "        16, 17, 18, 19, 20, 21, 22, 23, 25, 26,  0,  1,  2,  3,  4,  5,\n",
       "         6,  7,  8,  9, 10, 11, 12, 13, 14, 15, 16, 17, 18, 19, 20, 21,\n",
       "        22, 23, 24, 26],\n",
       "       [ 0,  1,  2,  3,  4,  5,  6,  7,  8,  9, 10, 11, 12, 13, 14, 15,\n",
       "        16, 17, 18, 19, 20, 21, 22, 23, 26, 27,  0,  1,  2,  3,  4,  5,\n",
       "         6,  7,  8,  9, 10, 11, 12, 13, 14, 15, 16, 17, 18, 19, 20, 21,\n",
       "        22, 23, 24, 26],\n",
       "       [ 0,  1,  2,  3,  4,  5,  6,  7,  8,  9, 10, 11, 12, 13, 14, 15,\n",
       "        16, 17, 18, 19, 20, 21, 22, 23, 25, 27,  0,  1,  2,  3,  4,  5,\n",
       "         6,  7,  8,  9, 10, 11, 12, 13, 14, 15, 16, 17, 18, 19, 20, 21,\n",
       "        22, 23, 25, 26],\n",
       "       [ 0,  1,  2,  3,  4,  5,  6,  7,  8,  9, 10, 11, 12, 13, 14, 15,\n",
       "        16, 17, 18, 19, 20, 21, 22, 23, 24, 26,  0,  1,  2,  3,  4,  5,\n",
       "         6,  7,  8,  9, 10, 11, 12, 13, 14, 15, 16, 17, 18, 19, 20, 21,\n",
       "        22, 23, 26, 27],\n",
       "       [ 0,  1,  2,  3,  4,  5,  6,  7,  8,  9, 10, 11, 12, 13, 14, 15,\n",
       "        16, 17, 18, 19, 20, 21, 22, 23, 25, 27,  0,  1,  2,  3,  4,  5,\n",
       "         6,  7,  8,  9, 10, 11, 12, 13, 14, 15, 16, 17, 18, 19, 20, 21,\n",
       "        22, 23, 24, 27],\n",
       "       [ 0,  1,  2,  3,  4,  5,  6,  7,  8,  9, 10, 11, 12, 13, 14, 15,\n",
       "        16, 17, 18, 19, 20, 21, 22, 23, 24, 26,  0,  1,  2,  3,  4,  5,\n",
       "         6,  7,  8,  9, 10, 11, 12, 13, 14, 15, 16, 17, 18, 19, 20, 21,\n",
       "        22, 23, 24, 25],\n",
       "       [ 0,  1,  2,  3,  4,  5,  6,  7,  8,  9, 10, 11, 12, 13, 14, 15,\n",
       "        16, 17, 18, 19, 20, 21, 22, 23, 25, 26,  0,  1,  2,  3,  4,  5,\n",
       "         6,  7,  8,  9, 10, 11, 12, 13, 14, 15, 16, 17, 18, 19, 20, 21,\n",
       "        22, 23, 25, 27],\n",
       "       [ 0,  1,  2,  3,  4,  5,  6,  7,  8,  9, 10, 11, 12, 13, 14, 15,\n",
       "        16, 17, 18, 19, 20, 21, 22, 23, 24, 27,  0,  1,  2,  3,  4,  5,\n",
       "         6,  7,  8,  9, 10, 11, 12, 13, 14, 15, 16, 17, 18, 19, 20, 21,\n",
       "        22, 23, 24, 26]], dtype=int32)"
      ]
     },
     "execution_count": 19,
     "metadata": {},
     "output_type": "execute_result"
    }
   ],
   "source": [
    "wf.idx_orbitals[np.argsort(np.abs(wf.ci_coeffs))[::-1]]"
   ]
  },
  {
   "cell_type": "code",
   "execution_count": 16,
   "metadata": {},
   "outputs": [
    {
     "data": {
      "text/plain": [
       "array([ 0.70227406, -0.70227406,  0.06253404, -0.06253404, -0.04823523,\n",
       "        0.04823523, -0.02336569,  0.02336569, -0.00405897,  0.00405897,\n",
       "        0.00259364, -0.00259364,  0.0016913 , -0.0016913 ,  0.00140937,\n",
       "       -0.00140937])"
      ]
     },
     "execution_count": 16,
     "metadata": {},
     "output_type": "execute_result"
    }
   ],
   "source": [
    "confs_from_mc(cas)[0][:16]"
   ]
  },
  {
   "cell_type": "code",
   "execution_count": 17,
   "metadata": {},
   "outputs": [
    {
     "data": {
      "text/plain": [
       "Array([-7.0227408e-01,  7.0227408e-01, -6.2534042e-02, -4.8235234e-02,\n",
       "        4.8235234e-02,  2.3365691e-02,  2.5936402e-03, -1.8538351e-08,\n",
       "        1.5898088e-08,  3.2087895e-09,  2.2543485e-09,  1.9044666e-09,\n",
       "       -1.9044664e-09, -7.2078370e-15,  2.3740182e-15,  1.1186292e-15],      dtype=float32)"
      ]
     },
     "execution_count": 17,
     "metadata": {},
     "output_type": "execute_result"
    }
   ],
   "source": [
    "wf.ci_coeffs[np.argsort(np.abs(wf.ci_coeffs))[::-1]]"
   ]
  },
  {
   "cell_type": "code",
   "execution_count": 11,
   "metadata": {},
   "outputs": [
    {
     "data": {
      "text/plain": [
       "array([[ 0,  1,  2,  3,  4,  5,  6,  7,  8,  9, 10, 11, 12, 13, 14, 15,\n",
       "        16, 17, 18, 19, 20, 21, 22, 23, 24, 25,  0,  1,  2,  3,  4,  5,\n",
       "         6,  7,  8,  9, 10, 11, 12, 13, 14, 15, 16, 17, 18, 19, 20, 21,\n",
       "        22, 23, 24, 26],\n",
       "       [ 0,  1,  2,  3,  4,  5,  6,  7,  8,  9, 10, 11, 12, 13, 14, 15,\n",
       "        16, 17, 18, 19, 20, 21, 22, 23, 24, 26,  0,  1,  2,  3,  4,  5,\n",
       "         6,  7,  8,  9, 10, 11, 12, 13, 14, 15, 16, 17, 18, 19, 20, 21,\n",
       "        22, 23, 24, 25],\n",
       "       [ 0,  1,  2,  3,  4,  5,  6,  7,  8,  9, 10, 11, 12, 13, 14, 15,\n",
       "        16, 17, 18, 19, 20, 21, 22, 23, 26, 27,  0,  1,  2,  3,  4,  5,\n",
       "         6,  7,  8,  9, 10, 11, 12, 13, 14, 15, 16, 17, 18, 19, 20, 21,\n",
       "        22, 23, 24, 26],\n",
       "       [ 0,  1,  2,  3,  4,  5,  6,  7,  8,  9, 10, 11, 12, 13, 14, 15,\n",
       "        16, 17, 18, 19, 20, 21, 22, 23, 24, 26,  0,  1,  2,  3,  4,  5,\n",
       "         6,  7,  8,  9, 10, 11, 12, 13, 14, 15, 16, 17, 18, 19, 20, 21,\n",
       "        22, 23, 26, 27],\n",
       "       [ 0,  1,  2,  3,  4,  5,  6,  7,  8,  9, 10, 11, 12, 13, 14, 15,\n",
       "        16, 17, 18, 19, 20, 21, 22, 23, 25, 26,  0,  1,  2,  3,  4,  5,\n",
       "         6,  7,  8,  9, 10, 11, 12, 13, 14, 15, 16, 17, 18, 19, 20, 21,\n",
       "        22, 23, 24, 26],\n",
       "       [ 0,  1,  2,  3,  4,  5,  6,  7,  8,  9, 10, 11, 12, 13, 14, 15,\n",
       "        16, 17, 18, 19, 20, 21, 22, 23, 24, 26,  0,  1,  2,  3,  4,  5,\n",
       "         6,  7,  8,  9, 10, 11, 12, 13, 14, 15, 16, 17, 18, 19, 20, 21,\n",
       "        22, 23, 25, 26],\n",
       "       [ 0,  1,  2,  3,  4,  5,  6,  7,  8,  9, 10, 11, 12, 13, 14, 15,\n",
       "        16, 17, 18, 19, 20, 21, 22, 23, 24, 27,  0,  1,  2,  3,  4,  5,\n",
       "         6,  7,  8,  9, 10, 11, 12, 13, 14, 15, 16, 17, 18, 19, 20, 21,\n",
       "        22, 23, 24, 26],\n",
       "       [ 0,  1,  2,  3,  4,  5,  6,  7,  8,  9, 10, 11, 12, 13, 14, 15,\n",
       "        16, 17, 18, 19, 20, 21, 22, 23, 24, 26,  0,  1,  2,  3,  4,  5,\n",
       "         6,  7,  8,  9, 10, 11, 12, 13, 14, 15, 16, 17, 18, 19, 20, 21,\n",
       "        22, 23, 24, 27],\n",
       "       [ 0,  1,  2,  3,  4,  5,  6,  7,  8,  9, 10, 11, 12, 13, 14, 15,\n",
       "        16, 17, 18, 19, 20, 21, 22, 23, 25, 27,  0,  1,  2,  3,  4,  5,\n",
       "         6,  7,  8,  9, 10, 11, 12, 13, 14, 15, 16, 17, 18, 19, 20, 21,\n",
       "        22, 23, 26, 27],\n",
       "       [ 0,  1,  2,  3,  4,  5,  6,  7,  8,  9, 10, 11, 12, 13, 14, 15,\n",
       "        16, 17, 18, 19, 20, 21, 22, 23, 26, 27,  0,  1,  2,  3,  4,  5,\n",
       "         6,  7,  8,  9, 10, 11, 12, 13, 14, 15, 16, 17, 18, 19, 20, 21,\n",
       "        22, 23, 25, 27],\n",
       "       [ 0,  1,  2,  3,  4,  5,  6,  7,  8,  9, 10, 11, 12, 13, 14, 15,\n",
       "        16, 17, 18, 19, 20, 21, 22, 23, 24, 25,  0,  1,  2,  3,  4,  5,\n",
       "         6,  7,  8,  9, 10, 11, 12, 13, 14, 15, 16, 17, 18, 19, 20, 21,\n",
       "        22, 23, 25, 27],\n",
       "       [ 0,  1,  2,  3,  4,  5,  6,  7,  8,  9, 10, 11, 12, 13, 14, 15,\n",
       "        16, 17, 18, 19, 20, 21, 22, 23, 25, 27,  0,  1,  2,  3,  4,  5,\n",
       "         6,  7,  8,  9, 10, 11, 12, 13, 14, 15, 16, 17, 18, 19, 20, 21,\n",
       "        22, 23, 24, 25],\n",
       "       [ 0,  1,  2,  3,  4,  5,  6,  7,  8,  9, 10, 11, 12, 13, 14, 15,\n",
       "        16, 17, 18, 19, 20, 21, 22, 23, 25, 27,  0,  1,  2,  3,  4,  5,\n",
       "         6,  7,  8,  9, 10, 11, 12, 13, 14, 15, 16, 17, 18, 19, 20, 21,\n",
       "        22, 23, 24, 27],\n",
       "       [ 0,  1,  2,  3,  4,  5,  6,  7,  8,  9, 10, 11, 12, 13, 14, 15,\n",
       "        16, 17, 18, 19, 20, 21, 22, 23, 24, 27,  0,  1,  2,  3,  4,  5,\n",
       "         6,  7,  8,  9, 10, 11, 12, 13, 14, 15, 16, 17, 18, 19, 20, 21,\n",
       "        22, 23, 25, 27],\n",
       "       [ 0,  1,  2,  3,  4,  5,  6,  7,  8,  9, 10, 11, 12, 13, 14, 15,\n",
       "        16, 17, 18, 19, 20, 21, 22, 23, 25, 27,  0,  1,  2,  3,  4,  5,\n",
       "         6,  7,  8,  9, 10, 11, 12, 13, 14, 15, 16, 17, 18, 19, 20, 21,\n",
       "        22, 23, 25, 26],\n",
       "       [ 0,  1,  2,  3,  4,  5,  6,  7,  8,  9, 10, 11, 12, 13, 14, 15,\n",
       "        16, 17, 18, 19, 20, 21, 22, 23, 25, 26,  0,  1,  2,  3,  4,  5,\n",
       "         6,  7,  8,  9, 10, 11, 12, 13, 14, 15, 16, 17, 18, 19, 20, 21,\n",
       "        22, 23, 25, 27]])"
      ]
     },
     "execution_count": 11,
     "metadata": {},
     "output_type": "execute_result"
    }
   ],
   "source": [
    "confs_from_mc(cas)[1][:16]"
   ]
  },
  {
   "cell_type": "code",
   "execution_count": 10,
   "metadata": {},
   "outputs": [
    {
     "data": {
      "text/plain": [
       "0.9993586687999999"
      ]
     },
     "execution_count": 10,
     "metadata": {},
     "output_type": "execute_result"
    }
   ],
   "source": [
    "((0.08836*8)**2) * 2"
   ]
  },
  {
   "cell_type": "code",
   "execution_count": null,
   "metadata": {},
   "outputs": [],
   "source": []
  },
  {
   "cell_type": "code",
   "execution_count": null,
   "metadata": {},
   "outputs": [],
   "source": []
  },
  {
   "cell_type": "markdown",
   "metadata": {},
   "source": []
  },
  {
   "cell_type": "code",
   "execution_count": null,
   "metadata": {},
   "outputs": [],
   "source": []
  },
  {
   "cell_type": "code",
   "execution_count": 8,
   "metadata": {},
   "outputs": [
    {
     "data": {
      "text/plain": [
       "Array([-0.08836369, -0.08836369, -0.08836369, -0.08836369, -0.08836369,\n",
       "       -0.08836369, -0.08836369, -0.08836369,  0.08836369,  0.08836369,\n",
       "        0.08836369,  0.08836369,  0.08836369,  0.08836369,  0.08836369,\n",
       "        0.08836369], dtype=float32)"
      ]
     },
     "execution_count": 8,
     "metadata": {},
     "output_type": "execute_result"
    }
   ],
   "source": [
    "wf.ci_coeffs"
   ]
  },
  {
   "cell_type": "code",
   "execution_count": 7,
   "metadata": {},
   "outputs": [
    {
     "data": {
      "text/plain": [
       "Array([[0, 1, 2, 3, 4, 5, 6, 8, 0, 1, 2, 3, 4, 5, 6, 7],\n",
       "       [0, 1, 2, 3, 4, 5, 6, 8, 0, 1, 2, 3, 4, 5, 6, 7],\n",
       "       [0, 1, 2, 3, 4, 5, 6, 8, 0, 1, 2, 3, 4, 5, 6, 7],\n",
       "       [0, 1, 2, 3, 4, 5, 6, 8, 0, 1, 2, 3, 4, 5, 6, 7],\n",
       "       [0, 1, 2, 3, 4, 5, 6, 8, 0, 1, 2, 3, 4, 5, 6, 7],\n",
       "       [0, 1, 2, 3, 4, 5, 6, 8, 0, 1, 2, 3, 4, 5, 6, 7],\n",
       "       [0, 1, 2, 3, 4, 5, 6, 8, 0, 1, 2, 3, 4, 5, 6, 7],\n",
       "       [0, 1, 2, 3, 4, 5, 6, 8, 0, 1, 2, 3, 4, 5, 6, 7],\n",
       "       [0, 1, 2, 3, 4, 5, 6, 7, 0, 1, 2, 3, 4, 5, 6, 8],\n",
       "       [0, 1, 2, 3, 4, 5, 6, 7, 0, 1, 2, 3, 4, 5, 6, 8],\n",
       "       [0, 1, 2, 3, 4, 5, 6, 7, 0, 1, 2, 3, 4, 5, 6, 8],\n",
       "       [0, 1, 2, 3, 4, 5, 6, 7, 0, 1, 2, 3, 4, 5, 6, 8],\n",
       "       [0, 1, 2, 3, 4, 5, 6, 7, 0, 1, 2, 3, 4, 5, 6, 8],\n",
       "       [0, 1, 2, 3, 4, 5, 6, 7, 0, 1, 2, 3, 4, 5, 6, 8],\n",
       "       [0, 1, 2, 3, 4, 5, 6, 7, 0, 1, 2, 3, 4, 5, 6, 8],\n",
       "       [0, 1, 2, 3, 4, 5, 6, 7, 0, 1, 2, 3, 4, 5, 6, 8]], dtype=int32)"
      ]
     },
     "execution_count": 7,
     "metadata": {},
     "output_type": "execute_result"
    }
   ],
   "source": [
    "wf.idx_orbitals"
   ]
  },
  {
   "cell_type": "code",
   "execution_count": null,
   "metadata": {},
   "outputs": [],
   "source": []
  },
  {
   "cell_type": "code",
   "execution_count": 3,
   "metadata": {},
   "outputs": [
    {
     "data": {
      "text/plain": [
       "<pyscf.gto.mole.Mole at 0x7f978b59a490>"
      ]
     },
     "execution_count": 3,
     "metadata": {},
     "output_type": "execute_result"
    }
   ],
   "source": [
    "mol.basis = 'sto-6g'\n",
    "mol.build()"
   ]
  },
  {
   "cell_type": "code",
   "execution_count": 15,
   "metadata": {},
   "outputs": [
    {
     "name": "stdout",
     "output_type": "stream",
     "text": [
      "converged SCF energy = -77.61000176233\n",
      "converged SCF energy = -111.180648130813\n"
     ]
    },
    {
     "data": {
      "text/plain": [
       "-111.18064813081322"
      ]
     },
     "execution_count": 15,
     "metadata": {},
     "output_type": "execute_result"
    }
   ],
   "source": [
    "import pyscf\n",
    "\n",
    "mf = pyscf.scf.RHF(mol)\n",
    "mf.kernel()\n",
    "mf.max_cycle = 0\n",
    "mf.mo_coeff[0, 0] += 1\n",
    "mf.init_guess = None\n",
    "mf.kernel()"
   ]
  },
  {
   "cell_type": "code",
   "execution_count": null,
   "metadata": {},
   "outputs": [],
   "source": []
  },
  {
   "cell_type": "code",
   "execution_count": 4,
   "metadata": {},
   "outputs": [
    {
     "name": "stdout",
     "output_type": "stream",
     "text": [
      "converged SCF energy = -77.6100017623389\n",
      "converged SCF energy = -77.6100017623477\n",
      "converged SCF energy = -77.552004908161\n",
      "converged SCF energy = -77.6100017623545\n",
      "converged SCF energy = -77.5520049082803\n",
      "converged SCF energy = -77.5520049081604\n",
      "converged SCF energy = -77.610001762354\n",
      "converged SCF energy = -77.5520049081602\n",
      "converged SCF energy = -77.6100017623548\n",
      "converged SCF energy = -77.5520049081603\n",
      "converged SCF energy = -77.5520049081602\n",
      "converged SCF energy = -77.6100017623342\n",
      "converged SCF energy = -77.6100017623222\n",
      "converged SCF energy = -77.6100017623541\n",
      "converged SCF energy = -77.6100017622003\n",
      "converged SCF energy = -77.5520049084705\n",
      "converged SCF energy = -77.6100017623544\n",
      "converged SCF energy = -77.6100017623547\n",
      "converged SCF energy = -77.6100017623541\n",
      "converged SCF energy = -77.5520049081622\n",
      "converged SCF energy = -77.5520049081605\n",
      "converged SCF energy = -77.5520049084289\n",
      "converged SCF energy = -77.6100017623337\n",
      "converged SCF energy = -77.5520049081944\n",
      "converged SCF energy = -77.5520049082477\n",
      "converged SCF energy = -77.5520049081631\n",
      "converged SCF energy = -77.5520049081629\n",
      "converged SCF energy = -77.5520049081612\n",
      "converged SCF energy = -77.5520049082421\n",
      "converged SCF energy = -77.6100017623535\n",
      "converged SCF energy = -77.5520049081605\n",
      "converged SCF energy = -77.6100017623545\n",
      "converged SCF energy = -77.6100017623545\n",
      "converged SCF energy = -77.6100017623318\n",
      "converged SCF energy = -77.552004908187\n",
      "converged SCF energy = -77.5520049081605\n",
      "converged SCF energy = -77.5520049081743\n",
      "converged SCF energy = -77.6100017623201\n",
      "converged SCF energy = -77.5520049081603\n",
      "converged SCF energy = -77.5520049081601\n",
      "converged SCF energy = -77.5520049081603\n",
      "converged SCF energy = -77.5520049081608\n",
      "converged SCF energy = -77.552004908161\n",
      "converged SCF energy = -77.5520049081627\n",
      "converged SCF energy = -77.5520049081635\n",
      "converged SCF energy = -77.6100017622996\n",
      "converged SCF energy = -77.5520049084983\n",
      "converged SCF energy = -77.610001762315\n",
      "converged SCF energy = -77.5520049081604\n",
      "converged SCF energy = -77.5520049081587\n",
      "converged SCF energy = -77.5520049081609\n",
      "converged SCF energy = -77.6100017623147\n",
      "converged SCF energy = -77.5520049081619\n",
      "converged SCF energy = -77.5520049081614\n",
      "converged SCF energy = -77.5520049081601\n",
      "converged SCF energy = -77.6100017623547\n",
      "converged SCF energy = -77.5520049081605\n",
      "converged SCF energy = -77.6100017623206\n",
      "converged SCF energy = -77.5520049081603\n",
      "converged SCF energy = -77.5520049081603\n",
      "converged SCF energy = -77.5520049081868\n",
      "converged SCF energy = -77.6100017623057\n",
      "converged SCF energy = -77.61000176235\n",
      "converged SCF energy = -77.5520049081612\n",
      "converged SCF energy = -77.5520049081603\n",
      "converged SCF energy = -77.6100017623543\n",
      "converged SCF energy = -77.5520049081607\n",
      "converged SCF energy = -77.5520049081639\n",
      "converged SCF energy = -77.5520049082471\n",
      "converged SCF energy = -77.6100017623509\n",
      "converged SCF energy = -77.5520049083837\n",
      "converged SCF energy = -77.5520049081351\n",
      "converged SCF energy = -77.6100017623534\n",
      "converged SCF energy = -77.552004908297\n",
      "converged SCF energy = -77.6100017623433\n",
      "converged SCF energy = -77.6100017623543\n",
      "converged SCF energy = -77.5520049081604\n",
      "converged SCF energy = -77.5520049081604\n",
      "converged SCF energy = -77.5520049081604\n",
      "converged SCF energy = -77.5520049082518\n",
      "converged SCF energy = -77.5520049081621\n",
      "converged SCF energy = -77.6100017623489\n",
      "converged SCF energy = -77.5520049081602\n",
      "converged SCF energy = -77.5520049081612\n",
      "converged SCF energy = -77.5520049081664\n",
      "converged SCF energy = -77.6100017623548\n",
      "converged SCF energy = -77.5520049081606\n",
      "converged SCF energy = -77.5520049081604\n",
      "converged SCF energy = -77.5520049084788\n",
      "converged SCF energy = -77.6100017623536\n",
      "converged SCF energy = -77.6100017623474\n",
      "converged SCF energy = -77.6100017623521\n",
      "converged SCF energy = -77.5520049082365\n",
      "converged SCF energy = -77.5520049081603\n",
      "converged SCF energy = -77.5520049082436\n",
      "converged SCF energy = -77.5520049081674\n",
      "converged SCF energy = -77.6100017623292\n",
      "converged SCF energy = -77.5520049081616\n",
      "converged SCF energy = -77.5520049084991\n",
      "converged SCF energy = -77.552004908322\n"
     ]
    }
   ],
   "source": [
    "mol.basis = 'sto-6g'\n",
    "mol.build()\n",
    "for _ in range(100):\n",
    "    mf = mol.RHF()\n",
    "    mf.run()\n"
   ]
  },
  {
   "cell_type": "code",
   "execution_count": 7,
   "metadata": {},
   "outputs": [
    {
     "data": {
      "text/plain": [
       "array([-11.35497121, -10.92363127,  -0.98988036,  -0.74246508,\n",
       "        -0.64020382,  -0.49340776,  -0.45971484,  -0.12084034,\n",
       "         0.10813887,   0.57947666,   0.71277035,   0.77266423,\n",
       "         0.91672989,   0.98976834])"
      ]
     },
     "execution_count": 7,
     "metadata": {},
     "output_type": "execute_result"
    }
   ],
   "source": [
    "mf.mo_energy"
   ]
  },
  {
   "cell_type": "code",
   "execution_count": null,
   "metadata": {},
   "outputs": [
    {
     "name": "stdout",
     "output_type": "stream",
     "text": [
      "converged SCF energy = -877.708579355943\n",
      "E(CCSD) = -878.9208273441767  E_corr = -1.212247988233828\n"
     ]
    },
    {
     "ename": "KeyboardInterrupt",
     "evalue": "",
     "output_type": "error",
     "traceback": [
      "\u001b[0;31m---------------------------------------------------------------------------\u001b[0m",
      "\u001b[0;31mKeyboardInterrupt\u001b[0m                         Traceback (most recent call last)",
      "Cell \u001b[0;32mIn[4], line 4\u001b[0m\n\u001b[1;32m      2\u001b[0m mf \u001b[38;5;241m=\u001b[39m database(comment\u001b[38;5;241m=\u001b[39m\u001b[38;5;124m'\u001b[39m\u001b[38;5;124mWG_09\u001b[39m\u001b[38;5;124m'\u001b[39m, basis\u001b[38;5;241m=\u001b[39m\u001b[38;5;124m'\u001b[39m\u001b[38;5;124maug-cc-pVTZ\u001b[39m\u001b[38;5;124m'\u001b[39m)\u001b[38;5;241m.\u001b[39mRHF()\u001b[38;5;241m.\u001b[39mrun()\n\u001b[1;32m      3\u001b[0m mycc \u001b[38;5;241m=\u001b[39m cc\u001b[38;5;241m.\u001b[39mCCSD(mf)\u001b[38;5;241m.\u001b[39mrun()\n\u001b[0;32m----> 4\u001b[0m et \u001b[38;5;241m=\u001b[39m \u001b[43mmycc\u001b[49m\u001b[38;5;241;43m.\u001b[39;49m\u001b[43mccsd_t\u001b[49m\u001b[43m(\u001b[49m\u001b[43m)\u001b[49m\n\u001b[1;32m      5\u001b[0m \u001b[38;5;28mprint\u001b[39m(\u001b[38;5;124m'\u001b[39m\u001b[38;5;124mCCSD(T) total energy\u001b[39m\u001b[38;5;124m'\u001b[39m, mycc\u001b[38;5;241m.\u001b[39me_tot \u001b[38;5;241m+\u001b[39m et)\n",
      "File \u001b[0;32m/ceph/ssd/staff/gaoni/miniforge3/envs/sparse/lib/python3.11/site-packages/pyscf/cc/ccsd.py:1281\u001b[0m, in \u001b[0;36mCCSD.ccsd_t\u001b[0;34m(self, t1, t2, eris)\u001b[0m\n\u001b[1;32m   1279\u001b[0m \u001b[38;5;28;01mif\u001b[39;00m t2 \u001b[38;5;129;01mis\u001b[39;00m \u001b[38;5;28;01mNone\u001b[39;00m: t2 \u001b[38;5;241m=\u001b[39m \u001b[38;5;28mself\u001b[39m\u001b[38;5;241m.\u001b[39mt2\n\u001b[1;32m   1280\u001b[0m \u001b[38;5;28;01mif\u001b[39;00m eris \u001b[38;5;129;01mis\u001b[39;00m \u001b[38;5;28;01mNone\u001b[39;00m: eris \u001b[38;5;241m=\u001b[39m \u001b[38;5;28mself\u001b[39m\u001b[38;5;241m.\u001b[39mao2mo(\u001b[38;5;28mself\u001b[39m\u001b[38;5;241m.\u001b[39mmo_coeff)\n\u001b[0;32m-> 1281\u001b[0m \u001b[38;5;28;01mreturn\u001b[39;00m \u001b[43mccsd_t\u001b[49m\u001b[38;5;241;43m.\u001b[39;49m\u001b[43mkernel\u001b[49m\u001b[43m(\u001b[49m\u001b[38;5;28;43mself\u001b[39;49m\u001b[43m,\u001b[49m\u001b[43m \u001b[49m\u001b[43meris\u001b[49m\u001b[43m,\u001b[49m\u001b[43m \u001b[49m\u001b[43mt1\u001b[49m\u001b[43m,\u001b[49m\u001b[43m \u001b[49m\u001b[43mt2\u001b[49m\u001b[43m,\u001b[49m\u001b[43m \u001b[49m\u001b[38;5;28;43mself\u001b[39;49m\u001b[38;5;241;43m.\u001b[39;49m\u001b[43mverbose\u001b[49m\u001b[43m)\u001b[49m\n",
      "File \u001b[0;32m/ceph/ssd/staff/gaoni/miniforge3/envs/sparse/lib/python3.11/site-packages/pyscf/cc/ccsd_t.py:106\u001b[0m, in \u001b[0;36mkernel\u001b[0;34m(mycc, eris, t1, t2, verbose)\u001b[0m\n\u001b[1;32m    104\u001b[0m bufsize \u001b[38;5;241m=\u001b[39m \u001b[38;5;28mmax\u001b[39m(\u001b[38;5;241m8\u001b[39m, bufsize)\n\u001b[1;32m    105\u001b[0m log\u001b[38;5;241m.\u001b[39mdebug(\u001b[38;5;124m'\u001b[39m\u001b[38;5;124mmax_memory \u001b[39m\u001b[38;5;132;01m%d\u001b[39;00m\u001b[38;5;124m MB (\u001b[39m\u001b[38;5;132;01m%d\u001b[39;00m\u001b[38;5;124m MB in use)\u001b[39m\u001b[38;5;124m'\u001b[39m, max_memory, mem_now)\n\u001b[0;32m--> 106\u001b[0m \u001b[43m\u001b[49m\u001b[38;5;28;43;01mwith\u001b[39;49;00m\u001b[43m \u001b[49m\u001b[43mlib\u001b[49m\u001b[38;5;241;43m.\u001b[39;49m\u001b[43mcall_in_background\u001b[49m\u001b[43m(\u001b[49m\u001b[43mcontract\u001b[49m\u001b[43m,\u001b[49m\u001b[43m \u001b[49m\u001b[43msync\u001b[49m\u001b[38;5;241;43m=\u001b[39;49m\u001b[38;5;129;43;01mnot\u001b[39;49;00m\u001b[43m \u001b[49m\u001b[43mmycc\u001b[49m\u001b[38;5;241;43m.\u001b[39;49m\u001b[43masync_io\u001b[49m\u001b[43m)\u001b[49m\u001b[43m \u001b[49m\u001b[38;5;28;43;01mas\u001b[39;49;00m\u001b[43m \u001b[49m\u001b[43masync_contract\u001b[49m\u001b[43m:\u001b[49m\n\u001b[1;32m    107\u001b[0m \u001b[43m    \u001b[49m\u001b[38;5;28;43;01mfor\u001b[39;49;00m\u001b[43m \u001b[49m\u001b[43ma0\u001b[49m\u001b[43m,\u001b[49m\u001b[43m \u001b[49m\u001b[43ma1\u001b[49m\u001b[43m \u001b[49m\u001b[38;5;129;43;01min\u001b[39;49;00m\u001b[43m \u001b[49m\u001b[38;5;28;43mreversed\u001b[39;49m\u001b[43m(\u001b[49m\u001b[38;5;28;43mlist\u001b[39;49m\u001b[43m(\u001b[49m\u001b[43mlib\u001b[49m\u001b[38;5;241;43m.\u001b[39;49m\u001b[43mprange_tril\u001b[49m\u001b[43m(\u001b[49m\u001b[38;5;241;43m0\u001b[39;49m\u001b[43m,\u001b[49m\u001b[43m \u001b[49m\u001b[43mnvir\u001b[49m\u001b[43m,\u001b[49m\u001b[43m \u001b[49m\u001b[43mbufsize\u001b[49m\u001b[43m)\u001b[49m\u001b[43m)\u001b[49m\u001b[43m)\u001b[49m\u001b[43m:\u001b[49m\n\u001b[1;32m    108\u001b[0m \u001b[43m        \u001b[49m\u001b[43mcache_row_a\u001b[49m\u001b[43m \u001b[49m\u001b[38;5;241;43m=\u001b[39;49m\u001b[43m \u001b[49m\u001b[43mnumpy\u001b[49m\u001b[38;5;241;43m.\u001b[39;49m\u001b[43masarray\u001b[49m\u001b[43m(\u001b[49m\u001b[43meris_vvop\u001b[49m\u001b[43m[\u001b[49m\u001b[43ma0\u001b[49m\u001b[43m:\u001b[49m\u001b[43ma1\u001b[49m\u001b[43m,\u001b[49m\u001b[43m:\u001b[49m\u001b[43ma1\u001b[49m\u001b[43m]\u001b[49m\u001b[43m,\u001b[49m\u001b[43m \u001b[49m\u001b[43morder\u001b[49m\u001b[38;5;241;43m=\u001b[39;49m\u001b[38;5;124;43m'\u001b[39;49m\u001b[38;5;124;43mC\u001b[39;49m\u001b[38;5;124;43m'\u001b[39;49m\u001b[43m)\u001b[49m\n",
      "File \u001b[0;32m/ceph/ssd/staff/gaoni/miniforge3/envs/sparse/lib/python3.11/site-packages/pyscf/lib/misc.py:1108\u001b[0m, in \u001b[0;36mcall_in_background.__exit__\u001b[0;34m(self, type, value, traceback)\u001b[0m\n\u001b[1;32m   1106\u001b[0m         handler\u001b[38;5;241m.\u001b[39mjoin()\n\u001b[1;32m   1107\u001b[0m     \u001b[38;5;28;01melse\u001b[39;00m:\n\u001b[0;32m-> 1108\u001b[0m         \u001b[43mhandler\u001b[49m\u001b[38;5;241;43m.\u001b[39;49m\u001b[43mresult\u001b[49m\u001b[43m(\u001b[49m\u001b[43m)\u001b[49m\n\u001b[1;32m   1109\u001b[0m \u001b[38;5;28;01mexcept\u001b[39;00m \u001b[38;5;167;01mException\u001b[39;00m \u001b[38;5;28;01mas\u001b[39;00m e:\n\u001b[1;32m   1110\u001b[0m     \u001b[38;5;28;01mraise\u001b[39;00m ThreadRuntimeError(\u001b[38;5;124m'\u001b[39m\u001b[38;5;124mError on thread \u001b[39m\u001b[38;5;132;01m%s\u001b[39;00m\u001b[38;5;124m:\u001b[39m\u001b[38;5;130;01m\\n\u001b[39;00m\u001b[38;5;132;01m%s\u001b[39;00m\u001b[38;5;124m'\u001b[39m \u001b[38;5;241m%\u001b[39m (\u001b[38;5;28mself\u001b[39m, e))\n",
      "File \u001b[0;32m/ceph/ssd/staff/gaoni/miniforge3/envs/sparse/lib/python3.11/concurrent/futures/_base.py:451\u001b[0m, in \u001b[0;36mFuture.result\u001b[0;34m(self, timeout)\u001b[0m\n\u001b[1;32m    448\u001b[0m \u001b[38;5;28;01melif\u001b[39;00m \u001b[38;5;28mself\u001b[39m\u001b[38;5;241m.\u001b[39m_state \u001b[38;5;241m==\u001b[39m FINISHED:\n\u001b[1;32m    449\u001b[0m     \u001b[38;5;28;01mreturn\u001b[39;00m \u001b[38;5;28mself\u001b[39m\u001b[38;5;241m.\u001b[39m__get_result()\n\u001b[0;32m--> 451\u001b[0m \u001b[38;5;28;43mself\u001b[39;49m\u001b[38;5;241;43m.\u001b[39;49m\u001b[43m_condition\u001b[49m\u001b[38;5;241;43m.\u001b[39;49m\u001b[43mwait\u001b[49m\u001b[43m(\u001b[49m\u001b[43mtimeout\u001b[49m\u001b[43m)\u001b[49m\n\u001b[1;32m    453\u001b[0m \u001b[38;5;28;01mif\u001b[39;00m \u001b[38;5;28mself\u001b[39m\u001b[38;5;241m.\u001b[39m_state \u001b[38;5;129;01min\u001b[39;00m [CANCELLED, CANCELLED_AND_NOTIFIED]:\n\u001b[1;32m    454\u001b[0m     \u001b[38;5;28;01mraise\u001b[39;00m CancelledError()\n",
      "File \u001b[0;32m/ceph/ssd/staff/gaoni/miniforge3/envs/sparse/lib/python3.11/threading.py:327\u001b[0m, in \u001b[0;36mCondition.wait\u001b[0;34m(self, timeout)\u001b[0m\n\u001b[1;32m    325\u001b[0m \u001b[38;5;28;01mtry\u001b[39;00m:    \u001b[38;5;66;03m# restore state no matter what (e.g., KeyboardInterrupt)\u001b[39;00m\n\u001b[1;32m    326\u001b[0m     \u001b[38;5;28;01mif\u001b[39;00m timeout \u001b[38;5;129;01mis\u001b[39;00m \u001b[38;5;28;01mNone\u001b[39;00m:\n\u001b[0;32m--> 327\u001b[0m         \u001b[43mwaiter\u001b[49m\u001b[38;5;241;43m.\u001b[39;49m\u001b[43macquire\u001b[49m\u001b[43m(\u001b[49m\u001b[43m)\u001b[49m\n\u001b[1;32m    328\u001b[0m         gotit \u001b[38;5;241m=\u001b[39m \u001b[38;5;28;01mTrue\u001b[39;00m\n\u001b[1;32m    329\u001b[0m     \u001b[38;5;28;01melse\u001b[39;00m:\n",
      "\u001b[0;31mKeyboardInterrupt\u001b[0m: "
     ]
    }
   ],
   "source": [
    "from pyscf import cc\n",
    "mol = database(comment='WG_09')\n",
    "mol.basis = 'aug-cc-pVTZ'\n",
    "mol.build()\n",
    "mycc = cc.CCSD(mf).run()\n",
    "et = mycc.ccsd_t()\n",
    "print('CCSD(T) total energy', mycc.e_tot + et)\n"
   ]
  },
  {
   "cell_type": "code",
   "execution_count": null,
   "metadata": {},
   "outputs": [
    {
     "name": "stdout",
     "output_type": "stream",
     "text": [
      "converged SCF energy = -877.708579355944\n"
     ]
    }
   ],
   "source": [
    "from pyscf import cc\n",
    "mol = database(comment='WG_09')\n",
    "mol.basis = 'aug-cc-pVQZ'\n",
    "mol.build()\n",
    "et = mycc.ccsd_t()\n",
    "print('CCSD(T) total energy', mycc.e_tot + et)"
   ]
  },
  {
   "cell_type": "code",
   "execution_count": null,
   "metadata": {},
   "outputs": [],
   "source": []
  },
  {
   "cell_type": "code",
   "execution_count": null,
   "metadata": {},
   "outputs": [],
   "source": []
  },
  {
   "cell_type": "code",
   "execution_count": 6,
   "metadata": {},
   "outputs": [],
   "source": [
    "df1 = pd.read_csv('run_1.csv')\n",
    "df2 = pd.read_csv('run_2.csv')\n",
    "df3 = pd.read_csv('run_3.csv')"
   ]
  },
  {
   "cell_type": "code",
   "execution_count": 10,
   "metadata": {},
   "outputs": [
    {
     "data": {
      "image/png": "[encoded data removed]",
      "text/plain": [
       "<Figure size 640x480 with 1 Axes>"
      ]
     },
     "metadata": {},
     "output_type": "display_data"
    }
   ],
   "source": [
    "# plt.plot(df1['opt/step'], df1['C4H4-new-1-9.0-3-104613 - opt/E_smooth'])\n",
    "plt.plot(df3['opt/step']*1.4 / 3600, df3['C4H4-new-1-6.0-9-106026 - opt/E_smooth'], label='new cutoff 6')\n",
    "plt.plot(df3['opt/step']*0.96 / 3600, df3['C4H4-new-1-3.0-8-106026 - opt/E_smooth'], label='new cutoff 3')\n",
    "plt.plot(df3['opt/step']*2.61 / 3600, df3['C4H4-moon-2-5.0-3-104963 - opt/E_smooth'], label='moon cutoff 5 (15) (current)')\n",
    "# plt.plot(df2['Step'], df2['07-02_cumulene_C4H4_0deg_13b1974852bbdb41a3edc82b988422bf_5 - opt/E_smooth'], label='moon cutoff 5 (15) (Michael)')\n",
    "plt.axhline(-154.713, color='black', label='best result')\n",
    "plt.legend()\n",
    "plt.xlabel('Time in (h)')\n",
    "plt.ylim(-154.72, -154.67)\n",
    "plt.show()"
   ]
  },
  {
   "cell_type": "code",
   "execution_count": null,
   "metadata": {},
   "outputs": [],
   "source": [
    "from pyscf import gto, scf\n",
    "\n",
    "# Define the molecular structure and basis set\n",
    "mol = gto.M(\n",
    "    atom=[('Co', 0, 0, 0),],  # Assuming 'atoms' contains the molecular geometry\n",
    "    basis='ccpvdz',  # Basis set as per the paper\n",
    "    spin=0,  # Assume a singlet state; modify as per the system's spin\n",
    "    charge=-3,  # Adjust based on the cluster charge\n",
    "    verbose=0,  # Print detailed output for debugging\n",
    "    ecp='ccecp',  # Use the ECP as per the paper\n",
    ")\n",
    "\n",
    "# Perform unrestricted Hartree-Fock calculation with relativistic corrections\n",
    "mf = scf.UHF(mol)  # Using unrestricted Hartree-Fock\n",
    "mf.kernel()\n",
    "\n",
    "# Print results\n",
    "print(\"Total Energy (Hartree):\", mf.e_tot)\n"
   ]
  },
  {
   "cell_type": "code",
   "execution_count": 18,
   "metadata": {},
   "outputs": [
    {
     "data": {
      "text/plain": [
       "-141.78415444799748"
      ]
     },
     "execution_count": 18,
     "metadata": {},
     "output_type": "execute_result"
    }
   ],
   "source": [
    "-141.78415444799748"
   ]
  },
  {
   "cell_type": "code",
   "execution_count": null,
   "metadata": {},
   "outputs": [],
   "source": []
  }
 ],
 "metadata": {
  "kernelspec": {
   "display_name": ".venv",
   "language": "python",
   "name": "python3"
  },
  "language_info": {
   "codemirror_mode": {
    "name": "ipython",
    "version": 3
   },
   "file_extension": ".py",
   "mimetype": "text/x-python",
   "name": "python",
   "nbconvert_exporter": "python",
   "pygments_lexer": "ipython3",
   "version": "3.11.9"
  }
 },
 "nbformat": 4,
 "nbformat_minor": 2
}
