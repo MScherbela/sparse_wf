{
 "cells": [
  {
   "cell_type": "code",
   "execution_count": 1,
   "metadata": {},
   "outputs": [],
   "source": [
    "%load_ext autoreload\n",
    "%autoreload 2\n",
    "import jax\n",
    "import jax.numpy as jnp\n",
    "from sparse_wf.model.wave_function import MoonLikeWaveFunction\n",
    "from sparse_wf.system import get_molecule\n",
    "from sparse_wf.mcmc import init_electrons"
   ]
  },
  {
   "cell_type": "code",
   "execution_count": 68,
   "metadata": {},
   "outputs": [],
   "source": [
    "molecule_args = {\n",
    "    'method': 'chain',\n",
    "    'chain_args': {\n",
    "        'element': 'H',\n",
    "        'distance': 1.8,\n",
    "        'n': 200\n",
    "    },\n",
    "    'basis': 'sto-3g'\n",
    "}\n",
    "model_args = data = {\n",
    "    \"n_determinants\": 16,\n",
    "    \"n_envelopes\": 8,\n",
    "    \"embedding\": {\n",
    "        \"cutoff\": 10.0,\n",
    "        \"feature_dim\": 256,\n",
    "        \"nuc_mlp_depth\": 4,\n",
    "        \"pair_mlp_widths\": [16, 8],\n",
    "        \"pair_n_envelopes\": 32\n",
    "    },\n",
    "    \"jastrow\": {\n",
    "        \"e_e_cusps\": \"psiformer\",\n",
    "        \"use_log_jastrow\": True,\n",
    "        \"use_mlp_jastrow\": True,\n",
    "        \"mlp_depth\": 2,\n",
    "        \"mlp_width\": 64\n",
    "    }\n",
    "}\n",
    "mol = get_molecule(molecule_args)\n",
    "wf = MoonLikeWaveFunction.create(mol, **model_args)"
   ]
  },
  {
   "cell_type": "code",
   "execution_count": 69,
   "metadata": {},
   "outputs": [],
   "source": [
    "key = jax.random.PRNGKey(42)\n",
    "key, subkey = jax.random.split(key)\n",
    "electrons = init_electrons(key, mol, 1)[0]\n",
    "params = wf.init(subkey, electrons)\n",
    "static = wf.get_static_input(electrons)"
   ]
  },
  {
   "cell_type": "code",
   "execution_count": 70,
   "metadata": {},
   "outputs": [],
   "source": [
    "logpsi, state = wf.logpsi_with_state(params, electrons, static)"
   ]
  },
  {
   "cell_type": "code",
   "execution_count": 73,
   "metadata": {},
   "outputs": [],
   "source": [
    "delta = jnp.concatenate([jnp.array([[0.1, 0, 0]]), jnp.zeros((199, 3))], axis=0)\n",
    "changed_idx = jnp.array([0])"
   ]
  },
  {
   "cell_type": "code",
   "execution_count": 74,
   "metadata": {},
   "outputs": [],
   "source": [
    "new_logpsi, new_state = wf.low_rank_update(params, electrons + delta, changed_idx, static, state)"
   ]
  },
  {
   "cell_type": "code",
   "execution_count": 75,
   "metadata": {},
   "outputs": [],
   "source": [
    "real_logpsi, real_state = wf.logpsi_with_state(params, electrons + delta, static)"
   ]
  },
  {
   "cell_type": "code",
   "execution_count": 76,
   "metadata": {},
   "outputs": [
    {
     "data": {
      "text/plain": [
       "LowRankState(embedding=MoonState(h_init=Array(4.3259074e-06, dtype=float32), h_init_same=Array(2.863675e-06, dtype=float32), h_init_diff=Array(2.865884e-06, dtype=float32), h0=Array(3.7399934e-06, dtype=float32), h1=Array(4.7234503e-06, dtype=float32), HL_up=Array(1.1350817e-05, dtype=float32), HL_dn=Array(1.1127907e-05, dtype=float32), h_out=Array(8.334951e-06, dtype=float32)), orbitals=Array(1.8817977e-05, dtype=float32), determinant=LogPsiState(matrices=[Array(1.8817977e-05, dtype=float32)], inverses=[Array(18.013235, dtype=float32)], slogdets=[(Array(0., dtype=float32), Array(0.00099631, dtype=float32))]), jastrow=Array(2.3823843e-07, dtype=float32))"
      ]
     },
     "execution_count": 76,
     "metadata": {},
     "output_type": "execute_result"
    }
   ],
   "source": [
    "jax.tree_map(lambda x, y: jnp.linalg.norm(x - y), new_state, real_state)"
   ]
  },
  {
   "cell_type": "code",
   "execution_count": 84,
   "metadata": {},
   "outputs": [
    {
     "data": {
      "text/plain": [
       "(Array(-0., dtype=float32),\n",
       " Array(-135.00717, dtype=float32),\n",
       " Array(-135.00717, dtype=float32),\n",
       " Array(-135.126, dtype=float32))"
      ]
     },
     "execution_count": 84,
     "metadata": {},
     "output_type": "execute_result"
    }
   ],
   "source": [
    "(new_logpsi - real_logpsi) / real_logpsi, real_logpsi, new_logpsi, logpsi"
   ]
  },
  {
   "cell_type": "markdown",
   "metadata": {},
   "source": [
    "# Benchmarking"
   ]
  },
  {
   "cell_type": "code",
   "execution_count": 78,
   "metadata": {},
   "outputs": [],
   "source": [
    "electrons = init_electrons(key, mol, 32)"
   ]
  },
  {
   "cell_type": "code",
   "execution_count": 79,
   "metadata": {},
   "outputs": [],
   "source": [
    "import functools\n",
    "@functools.partial(jax.jit, static_argnums=1)\n",
    "@functools.partial(jax.vmap, in_axes=(0, None))\n",
    "def normal_fwd(electrons, static):\n",
    "    return wf.logpsi_with_state(params, electrons, static)[0]"
   ]
  },
  {
   "cell_type": "code",
   "execution_count": 80,
   "metadata": {},
   "outputs": [
    {
     "name": "stdout",
     "output_type": "stream",
     "text": [
      "CPU times: user 9.85 s, sys: 369 ms, total: 10.2 s\n",
      "Wall time: 11.4 s\n",
      "98.8 ms ± 170 µs per loop (mean ± std. dev. of 7 runs, 10 loops each)\n"
     ]
    }
   ],
   "source": [
    "static = wf.get_static_input(electrons)\n",
    "%time jax.block_until_ready(normal_fwd(electrons, static));\n",
    "%timeit jax.block_until_ready(normal_fwd(electrons, static));"
   ]
  },
  {
   "cell_type": "code",
   "execution_count": 81,
   "metadata": {},
   "outputs": [],
   "source": [
    "import functools\n",
    "@functools.partial(jax.jit, static_argnums=1)\n",
    "@functools.partial(jax.vmap, in_axes=(0, None, 0))\n",
    "def fast_fwd(electrons, static, state):\n",
    "    return wf.low_rank_update(params, electrons, jnp.array([0]), static, state)"
   ]
  },
  {
   "cell_type": "code",
   "execution_count": 82,
   "metadata": {},
   "outputs": [
    {
     "name": "stdout",
     "output_type": "stream",
     "text": [
      "CPU times: user 8.18 s, sys: 194 ms, total: 8.37 s\n",
      "Wall time: 10.1 s\n",
      "12.3 ms ± 24.2 µs per loop (mean ± std. dev. of 7 runs, 100 loops each)\n"
     ]
    }
   ],
   "source": [
    "static = wf.get_static_input(electrons)\n",
    "_, state = jax.vmap(wf.logpsi_with_state, in_axes=(None, 0, None))(params, electrons, static)\n",
    "%time jax.block_until_ready(fast_fwd(electrons, static, state));\n",
    "%timeit jax.block_until_ready(fast_fwd(electrons, static, state));"
   ]
  },
  {
   "cell_type": "code",
   "execution_count": 83,
   "metadata": {},
   "outputs": [
    {
     "data": {
      "text/plain": [
       "Array([-1.5258789e-05,  0.0000000e+00,  0.0000000e+00, -3.0517578e-05,\n",
       "       -1.5258789e-05, -3.0517578e-05,  0.0000000e+00,  0.0000000e+00,\n",
       "        6.1035156e-05, -3.0517578e-05,  2.1972656e-03, -1.5258789e-05,\n",
       "        1.5258789e-05, -1.5258789e-05,  6.1035156e-05,  0.0000000e+00,\n",
       "       -6.1035156e-05, -1.5258789e-05, -4.5776367e-05,  3.0517578e-05,\n",
       "        4.5776367e-05,  1.5258789e-05, -1.5258789e-05,  0.0000000e+00,\n",
       "        2.4414062e-04,  0.0000000e+00,  0.0000000e+00,  0.0000000e+00,\n",
       "        1.1901855e-03,  1.5258789e-05,  1.5258789e-05, -9.9182129e-05],      dtype=float32)"
      ]
     },
     "execution_count": 83,
     "metadata": {},
     "output_type": "execute_result"
    }
   ],
   "source": [
    "normal_fwd(electrons, static) - fast_fwd(electrons, static, state)[0]"
   ]
  },
  {
   "cell_type": "code",
   "execution_count": null,
   "metadata": {},
   "outputs": [],
   "source": []
  }
 ],
 "metadata": {
  "kernelspec": {
   "display_name": "sparse",
   "language": "python",
   "name": "python3"
  },
  "language_info": {
   "codemirror_mode": {
    "name": "ipython",
    "version": 3
   },
   "file_extension": ".py",
   "mimetype": "text/x-python",
   "name": "python",
   "nbconvert_exporter": "python",
   "pygments_lexer": "ipython3",
   "version": "3.11.8"
  }
 },
 "nbformat": 4,
 "nbformat_minor": 2
}
