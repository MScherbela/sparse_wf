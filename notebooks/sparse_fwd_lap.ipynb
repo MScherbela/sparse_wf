{
 "cells": [
  {
   "cell_type": "code",
   "execution_count": 24,
   "metadata": {},
   "outputs": [
    {
     "name": "stdout",
     "output_type": "stream",
     "text": [
      "The autoreload extension is already loaded. To reload it, use:\n",
      "  %reload_ext autoreload\n"
     ]
    }
   ],
   "source": [
    "%load_ext autoreload\n",
    "%autoreload 2\n",
    "from sparse_wf.model.sparse_fwd_lap import *\n",
    "import jax\n",
    "import folx\n",
    "import jax.numpy as jnp\n",
    "import numpy as np"
   ]
  },
  {
   "cell_type": "code",
   "execution_count": 35,
   "metadata": {},
   "outputs": [],
   "source": [
    "n = 4\n",
    "d = 2\n",
    "x = jnp.array(np.random.normal(size=(n, d)))\n",
    "J = jnp.array(np.random.normal(size=(n*n, 3, d)))\n",
    "lap = np.random.normal(size=(n, d))\n",
    "a, b = np.where(np.ones((n, n)) -np.eye(n))\n",
    "idx_ctr = jnp.array(np.concatenate([np.arange(n), a]))\n",
    "idx_dep = jnp.array(np.concatenate([np.arange(n), b]))"
   ]
  },
  {
   "cell_type": "code",
   "execution_count": 36,
   "metadata": {},
   "outputs": [],
   "source": [
    "node = NodeWithFwdLap(x, J, lap, idx_ctr, idx_dep)"
   ]
  },
  {
   "cell_type": "code",
   "execution_count": 37,
   "metadata": {},
   "outputs": [
    {
     "data": {
      "text/plain": [
       "FwdLaplArray(x=Array(0., dtype=float32), jacobian=FwdJacobian(data=Array(0., dtype=float32), x0_idx=None), laplacian=Array(0., dtype=float32))"
      ]
     },
     "execution_count": 37,
     "metadata": {},
     "output_type": "execute_result"
    }
   ],
   "source": [
    "jax.tree_util.tree_map(lambda a, b: jnp.linalg.norm(a-b), folx.forward_laplacian(lambda x: x[1:3].sum(0))(node.to_folx()), node.sum_from_to(1, 3))"
   ]
  },
  {
   "cell_type": "code",
   "execution_count": 47,
   "metadata": {},
   "outputs": [
    {
     "data": {
      "text/plain": [
       "FwdLaplArray(x=Array(0., dtype=float32), jacobian=FwdJacobian(data=Array(0., dtype=float32), x0_idx=None), laplacian=Array(5.722046e-06, dtype=float32))"
      ]
     },
     "execution_count": 47,
     "metadata": {},
     "output_type": "execute_result"
    }
   ],
   "source": [
    "jax.tree_util.tree_map(lambda a, b: jnp.linalg.norm(a-b), folx.forward_laplacian(lambda x: x*x)(node.to_folx()), (node*node).to_folx())"
   ]
  },
  {
   "cell_type": "code",
   "execution_count": 52,
   "metadata": {},
   "outputs": [
    {
     "data": {
      "text/plain": [
       "FwdLaplArray(x=Array(0., dtype=float32), jacobian=FwdJacobian(data=Array(0., dtype=float32), x0_idx=None), laplacian=Array(0., dtype=float32))"
      ]
     },
     "execution_count": 52,
     "metadata": {},
     "output_type": "execute_result"
    }
   ],
   "source": [
    "jax.tree_util.tree_map(lambda a, b: jnp.linalg.norm(a-b), folx.forward_laplacian(lambda x: x.sum(-1))(node.to_folx()), node.sum(-1).to_folx())"
   ]
  },
  {
   "cell_type": "code",
   "execution_count": 57,
   "metadata": {},
   "outputs": [
    {
     "data": {
      "text/plain": [
       "FwdLaplArray(x=Array(0., dtype=float32), jacobian=FwdJacobian(data=Array(0., dtype=float32), x0_idx=None), laplacian=Array(0., dtype=float32))"
      ]
     },
     "execution_count": 57,
     "metadata": {},
     "output_type": "execute_result"
    }
   ],
   "source": [
    "jax.tree_util.tree_map(lambda a, b: jnp.linalg.norm(a-b), folx.forward_laplacian(lambda x: x.reshape(n, 1, d))(node.to_folx()), node.reshape(n, 1, d).to_folx())"
   ]
  },
  {
   "cell_type": "code",
   "execution_count": 58,
   "metadata": {},
   "outputs": [
    {
     "data": {
      "text/plain": [
       "FwdLaplArray(x=Array(0., dtype=float32), jacobian=FwdJacobian(data=Array(0., dtype=float32), x0_idx=None), laplacian=Array(0., dtype=float32))"
      ]
     },
     "execution_count": 58,
     "metadata": {},
     "output_type": "execute_result"
    }
   ],
   "source": [
    "jax.tree_util.tree_map(lambda a, b: jnp.linalg.norm(a-b), folx.forward_laplacian(lambda x: x.reshape(n, d, 1))(node.to_folx()), node.reshape(n, d, 1).to_folx())"
   ]
  },
  {
   "cell_type": "code",
   "execution_count": null,
   "metadata": {},
   "outputs": [],
   "source": []
  }
 ],
 "metadata": {
  "kernelspec": {
   "display_name": ".venv",
   "language": "python",
   "name": "python3"
  },
  "language_info": {
   "codemirror_mode": {
    "name": "ipython",
    "version": 3
   },
   "file_extension": ".py",
   "mimetype": "text/x-python",
   "name": "python",
   "nbconvert_exporter": "python",
   "pygments_lexer": "ipython3",
   "version": "3.11.9"
  }
 },
 "nbformat": 4,
 "nbformat_minor": 2
}
