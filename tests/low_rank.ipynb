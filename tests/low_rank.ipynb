{
 "cells": [
  {
   "cell_type": "code",
   "execution_count": 1,
   "metadata": {},
   "outputs": [],
   "source": [
    "%load_ext autoreload\n",
    "%autoreload 2\n",
    "# %%\n",
    "import functools\n",
    "import os\n",
    "\n",
    "# ruff: noqa: E402 # Allow setting environment variables before importing jax\n",
    "# os.environ[\"CUDA_VISIBLE_DEVICES\"] = \"\"\n",
    "os.environ[\"NVIDIA_TF32_OVERRIDE\"] = \"0\"\n",
    "\n",
    "\n",
    "import jax\n",
    "import jax.numpy as jnp\n",
    "import jax.tree_util as jtu\n",
    "import numpy as np\n",
    "import pytest\n",
    "from jax import config as jax_config\n",
    "from sparse_wf.mcmc import init_electrons\n",
    "from sparse_wf.model.utils import get_relative_tolerance\n",
    "\n",
    "from utils import build_atom_chain, build_model, change_float_dtype\n",
    "\n",
    "jax_config.update(\"jax_enable_x64\", True)\n",
    "jax_config.update(\"jax_default_matmul_precision\", \"highest\")\n",
    "\n",
    "\n",
    "@functools.lru_cache()\n",
    "def setup_inputs(dtype):\n",
    "    rng = jax.random.PRNGKey(0)\n",
    "    rng_r, rng_params = jax.random.split(rng)\n",
    "    mol = build_atom_chain(10, 2)\n",
    "    model = build_model(mol)\n",
    "    # model = jtu.tree_map(lambda x: change_float_dtype(x, dtype), model)\n",
    "    electrons = init_electrons(rng_r, mol, batch_size=1)[0]\n",
    "    params = model.init(rng_params, electrons)\n",
    "    params, electrons = jtu.tree_map(lambda x: change_float_dtype(x, dtype), (params, electrons))\n",
    "    static_args = model.get_static_input(electrons)\n",
    "    return model, electrons, params, static_args\n",
    "\n",
    "\n",
    "# TODO: add separate testcases for embedding, jastrow, determinant, total_logpsi\n",
    "@pytest.mark.parametrize(\"dtype\", [jnp.float64])\n",
    "def test_low_rank_update_logpsi(dtype):\n",
    "    model, electrons, params, static_args = setup_inputs(dtype)\n",
    "    (sign_old, logpsi_old), state = model.log_psi_with_state(params, electrons, static_args)\n",
    "    assert logpsi_old.dtype == dtype\n",
    "\n",
    "    ind_move = np.array(len(electrons) // 2)\n",
    "    idx_changed = ind_move[None]\n",
    "    dr = np.array([2, 0, 0]).astype(dtype)\n",
    "    electrons_new = electrons.at[ind_move].add(dr)\n",
    "\n",
    "    logpsi_new = model(params, electrons_new, static_args)\n",
    "    (sign_new, logpsi_new_update), state_new = model.log_psi_low_rank_update(\n",
    "        params, electrons_new, idx_changed, static_args, state\n",
    "    )\n",
    "\n",
    "    assert logpsi_new.dtype == dtype\n",
    "    assert logpsi_new_update.dtype == dtype\n",
    "    assert jnp.allclose(logpsi_new, logpsi_new_update, rtol=get_relative_tolerance(dtype))\n",
    "\n",
    "    electrons_new_new = electrons_new.at[ind_move].add(dr)\n",
    "    (sign_new_new, logpsi_new_new_update), state_new_new = model.log_psi_low_rank_update(\n",
    "        params, electrons_new_new, idx_changed, static_args, state_new\n",
    "    )\n",
    "    assert jnp.allclose(logpsi_new_new_update, logpsi_new_update, rtol=get_relative_tolerance(dtype))\n"
   ]
  },
  {
   "cell_type": "code",
   "execution_count": 2,
   "metadata": {},
   "outputs": [
    {
     "name": "stderr",
     "output_type": "stream",
     "text": [
      "2024-07-07 18:31:52.149127: W external/xla/xla/service/gpu/nvptx_compiler.cc:765] The NVIDIA driver's CUDA version is 12.2 which is older than the ptxas CUDA version (12.5.82). Because the driver is older than the ptxas version, XLA is disabling parallel compilation, which may slow down compilation. You should update your NVIDIA driver or use the NVIDIA-provided CUDA forward compatibility packages.\n"
     ]
    }
   ],
   "source": [
    "dtype = jnp.float64\n",
    "model, electrons, params, static_args = setup_inputs(dtype)\n",
    "(sign_old, logpsi_old), state = model.log_psi_with_state(params, electrons, static_args)\n",
    "assert logpsi_old.dtype == dtype"
   ]
  },
  {
   "cell_type": "code",
   "execution_count": null,
   "metadata": {},
   "outputs": [],
   "source": [
    "ind_move = np.array(len(electrons) // 2)\n",
    "idx_changed = ind_move[None]\n",
    "dr = np.array([2, 0, 0]).astype(dtype)\n",
    "electrons_new = electrons.at[ind_move].add(dr)"
   ]
  },
  {
   "cell_type": "code",
   "execution_count": 10,
   "metadata": {},
   "outputs": [],
   "source": [
    "_, new_state = model.log_psi_with_state(params, electrons_new, static_args)"
   ]
  },
  {
   "cell_type": "code",
   "execution_count": 11,
   "metadata": {},
   "outputs": [],
   "source": [
    "logpsi_new = model(params, electrons_new, static_args)\n",
    "(sign_new, logpsi_new_update), state_new = model.log_psi_low_rank_update(\n",
    "    params, electrons_new, idx_changed, static_args, state\n",
    ")\n",
    "assert logpsi_new.dtype == dtype\n",
    "assert logpsi_new_update.dtype == dtype\n",
    "assert jnp.allclose(logpsi_new, logpsi_new_update, rtol=get_relative_tolerance(dtype))"
   ]
  },
  {
   "cell_type": "code",
   "execution_count": 12,
   "metadata": {},
   "outputs": [],
   "source": [
    "electrons_new_new = electrons_new.at[ind_move].add(dr)\n",
    "logpsi_new_new = model(params, electrons_new_new, static_args)\n",
    "(sign_new_new, logpsi_new_new_update), state_new_new = model.log_psi_low_rank_update(\n",
    "    params, electrons_new_new, idx_changed, static_args, state_new\n",
    ")\n",
    "assert jnp.allclose(logpsi_new_new_update, logpsi_new_new, rtol=get_relative_tolerance(dtype))"
   ]
  },
  {
   "cell_type": "code",
   "execution_count": 52,
   "metadata": {},
   "outputs": [
    {
     "name": "stdout",
     "output_type": "stream",
     "text": [
      "[      1       7       9      10      12      19 1000000 1000000 1000000\n",
      " 1000000 1000000 1000000 1000000 1000000 1000000 1000000]\n",
      "[      7       9      16      17      18      19 1000000 1000000 1000000\n",
      " 1000000 1000000 1000000 1000000 1000000 1000000 1000000]\n",
      "[      3       4       7       9      13      14      15      17      19\n",
      " 1000000 1000000 1000000 1000000 1000000 1000000 1000000]\n",
      "[      1       2       3       4       7       9      11      12      14\n",
      "      17      19 1000000 1000000 1000000 1000000 1000000]\n",
      "[      1       7       9      10      17      19 1000000 1000000 1000000\n",
      " 1000000 1000000 1000000 1000000 1000000 1000000 1000000]\n",
      "[      7       8       9      16      17      18      19 1000000 1000000\n",
      " 1000000 1000000 1000000 1000000 1000000 1000000 1000000]\n",
      "[      4       6       7       9      15      16      17      19 1000000\n",
      " 1000000 1000000 1000000 1000000 1000000 1000000 1000000]\n",
      "[      2       3       4       7       9      11      12      14      15\n",
      "      17      19 1000000 1000000 1000000 1000000 1000000]\n",
      "[      7       8       9      16      17      18      19 1000000 1000000\n",
      " 1000000 1000000 1000000 1000000 1000000 1000000 1000000]\n",
      "[      7       8       9      16      17      19 1000000 1000000 1000000\n",
      " 1000000 1000000 1000000 1000000 1000000 1000000 1000000]\n"
     ]
    }
   ],
   "source": [
    "e = electrons\n",
    "(sign, log_psi), state = model.log_psi_with_state(params, e, static_args)\n",
    "for _ in range(10):\n",
    "    ind_move = np.random.randint(0, len(electrons), 1)\n",
    "    dr = np.random.normal(size=3)\n",
    "    e = e.at[ind_move].add(dr)\n",
    "    prev_state = state\n",
    "    (new_sign, new_log), new_state = model.log_psi_low_rank_update(params, e, ind_move, static_args, state)\n",
    "    (sign, log_psi), state = model.log_psi_with_state(params, e, static_args)\n",
    "    assert jnp.allclose(log_psi, new_log, rtol=get_relative_tolerance(dtype)), (log_psi, new_log, _)"
   ]
  },
  {
   "cell_type": "code",
   "execution_count": 26,
   "metadata": {},
   "outputs": [
    {
     "data": {
      "text/plain": [
       "Array(1.71278835e-14, dtype=float64)"
      ]
     },
     "execution_count": 26,
     "metadata": {},
     "output_type": "execute_result"
    }
   ],
   "source": [
    "jnp.linalg.norm(new_state.embedding.h_init - state.embedding.h_init)"
   ]
  },
  {
   "cell_type": "code",
   "execution_count": 27,
   "metadata": {},
   "outputs": [
    {
     "data": {
      "text/plain": [
       "Array(5.61455003e-15, dtype=float64)"
      ]
     },
     "execution_count": 27,
     "metadata": {},
     "output_type": "execute_result"
    }
   ],
   "source": [
    "jnp.linalg.norm(new_state.embedding.h0 - state.embedding.h0)"
   ]
  },
  {
   "cell_type": "code",
   "execution_count": 28,
   "metadata": {},
   "outputs": [
    {
     "data": {
      "text/plain": [
       "Array(1.03040626e-14, dtype=float64)"
      ]
     },
     "execution_count": 28,
     "metadata": {},
     "output_type": "execute_result"
    }
   ],
   "source": [
    "jnp.linalg.norm(new_state.embedding.h1 - state.embedding.h1)"
   ]
  },
  {
   "cell_type": "code",
   "execution_count": 29,
   "metadata": {},
   "outputs": [
    {
     "data": {
      "text/plain": [
       "Array(1.90916342e-15, dtype=float64)"
      ]
     },
     "execution_count": 29,
     "metadata": {},
     "output_type": "execute_result"
    }
   ],
   "source": [
    "jnp.linalg.norm(new_state.embedding.HL_dn - state.embedding.HL_dn)"
   ]
  },
  {
   "cell_type": "code",
   "execution_count": 30,
   "metadata": {},
   "outputs": [
    {
     "data": {
      "text/plain": [
       "Array(2.4490009e-15, dtype=float64)"
      ]
     },
     "execution_count": 30,
     "metadata": {},
     "output_type": "execute_result"
    }
   ],
   "source": [
    "jnp.linalg.norm(new_state.embedding.HL_up - state.embedding.HL_up)"
   ]
  },
  {
   "cell_type": "code",
   "execution_count": 31,
   "metadata": {},
   "outputs": [
    {
     "data": {
      "text/plain": [
       "Array(1.88909266e-14, dtype=float64)"
      ]
     },
     "execution_count": 31,
     "metadata": {},
     "output_type": "execute_result"
    }
   ],
   "source": [
    "jnp.linalg.norm(new_state.embedding.h_out - state.embedding.h_out)"
   ]
  },
  {
   "cell_type": "code",
   "execution_count": null,
   "metadata": {},
   "outputs": [
    {
     "data": {
      "text/plain": [
       "Array(7.25748187e-16, dtype=float64)"
      ]
     },
     "metadata": {},
     "output_type": "display_data"
    }
   ],
   "source": [
    "jnp.linalg.norm(state.orbitals.envelopes - new_state.orbitals.envelopes)"
   ]
  },
  {
   "cell_type": "code",
   "execution_count": 41,
   "metadata": {},
   "outputs": [
    {
     "data": {
      "text/plain": [
       "Array(6.11356715e-15, dtype=float64)"
      ]
     },
     "execution_count": 41,
     "metadata": {},
     "output_type": "execute_result"
    }
   ],
   "source": [
    "jnp.linalg.norm(state.orbitals.orbitals - new_state.orbitals.orbitals)"
   ]
  },
  {
   "cell_type": "code",
   "execution_count": 44,
   "metadata": {},
   "outputs": [
    {
     "data": {
      "text/plain": [
       "Array(81.27725255, dtype=float64)"
      ]
     },
     "execution_count": 44,
     "metadata": {},
     "output_type": "execute_result"
    }
   ],
   "source": [
    "jnp.linalg.norm(state.determinant.inverses[0] - new_state.determinant.inverses[0])"
   ]
  },
  {
   "cell_type": "code",
   "execution_count": 45,
   "metadata": {},
   "outputs": [
    {
     "data": {
      "text/plain": [
       "Array(6.11356715e-15, dtype=float64)"
      ]
     },
     "execution_count": 45,
     "metadata": {},
     "output_type": "execute_result"
    }
   ],
   "source": [
    "jnp.linalg.norm(state.determinant.matrices[0] - new_state.determinant.matrices[0])"
   ]
  },
  {
   "cell_type": "code",
   "execution_count": 47,
   "metadata": {},
   "outputs": [
    {
     "data": {
      "text/plain": [
       "Array(0.08233283, dtype=float64)"
      ]
     },
     "execution_count": 47,
     "metadata": {},
     "output_type": "execute_result"
    }
   ],
   "source": [
    "jnp.linalg.norm(state.determinant.slogdets[0][1] - new_state.determinant.slogdets[0][1])"
   ]
  },
  {
   "cell_type": "code",
   "execution_count": 46,
   "metadata": {},
   "outputs": [
    {
     "data": {
      "text/plain": [
       "Array(0., dtype=float64)"
      ]
     },
     "execution_count": 46,
     "metadata": {},
     "output_type": "execute_result"
    }
   ],
   "source": [
    "jnp.linalg.norm(state.jastrow - new_state.jastrow )"
   ]
  },
  {
   "cell_type": "code",
   "execution_count": 32,
   "metadata": {},
   "outputs": [
    {
     "data": {
      "text/plain": [
       "array([0.00000000e+00, 0.00000000e+00, 0.00000000e+00, 0.00000000e+00,\n",
       "       0.00000000e+00, 0.00000000e+00, 0.00000000e+00, 1.07556884e-14,\n",
       "       1.84365445e-15, 1.31614063e-14, 0.00000000e+00, 0.00000000e+00,\n",
       "       0.00000000e+00, 0.00000000e+00, 0.00000000e+00, 0.00000000e+00,\n",
       "       7.97748611e-15, 0.00000000e+00, 0.00000000e+00, 9.59327177e-16])"
      ]
     },
     "execution_count": 32,
     "metadata": {},
     "output_type": "execute_result"
    }
   ],
   "source": [
    "idx = np.asarray(new_state.embedding.extras)\n",
    "idx = idx[idx < 1000]\n",
    "np_a = np.array(prev_state.embedding.h_out)\n",
    "np_a[idx] = np.array(new_state.embedding.h_out[idx])\n",
    "np.linalg.norm(np_a - state.embedding.h_out,axis=-1)"
   ]
  },
  {
   "cell_type": "code",
   "execution_count": 33,
   "metadata": {},
   "outputs": [
    {
     "data": {
      "text/plain": [
       "array([0.00000000e+00, 0.00000000e+00, 0.00000000e+00, 0.00000000e+00,\n",
       "       0.00000000e+00, 0.00000000e+00, 0.00000000e+00, 6.58056314e-01,\n",
       "       1.36269349e-04, 0.00000000e+00, 0.00000000e+00, 0.00000000e+00,\n",
       "       0.00000000e+00, 0.00000000e+00, 0.00000000e+00, 0.00000000e+00,\n",
       "       4.08076676e-03, 0.00000000e+00, 0.00000000e+00, 3.18222863e-03])"
      ]
     },
     "execution_count": 33,
     "metadata": {},
     "output_type": "execute_result"
    }
   ],
   "source": [
    "np.linalg.norm(state.embedding.h_out - prev_state.embedding.h_out, axis=-1)"
   ]
  },
  {
   "cell_type": "code",
   "execution_count": 34,
   "metadata": {},
   "outputs": [
    {
     "data": {
      "text/plain": [
       "array([0.00000000e+00, 0.00000000e+00, 0.00000000e+00, 0.00000000e+00,\n",
       "       0.00000000e+00, 0.00000000e+00, 0.00000000e+00, 6.58056314e-01,\n",
       "       1.36269349e-04, 1.31614063e-14, 0.00000000e+00, 0.00000000e+00,\n",
       "       0.00000000e+00, 0.00000000e+00, 0.00000000e+00, 0.00000000e+00,\n",
       "       4.08076676e-03, 0.00000000e+00, 0.00000000e+00, 3.18222863e-03])"
      ]
     },
     "execution_count": 34,
     "metadata": {},
     "output_type": "execute_result"
    }
   ],
   "source": [
    "np.linalg.norm(new_state.embedding.h_out - prev_state.embedding.h_out, axis=-1)"
   ]
  },
  {
   "cell_type": "code",
   "execution_count": 28,
   "metadata": {},
   "outputs": [
    {
     "data": {
      "text/plain": [
       "array([5])"
      ]
     },
     "execution_count": 28,
     "metadata": {},
     "output_type": "execute_result"
    }
   ],
   "source": [
    "ind_move"
   ]
  },
  {
   "cell_type": "code",
   "execution_count": 23,
   "metadata": {},
   "outputs": [
    {
     "data": {
      "text/plain": [
       "array([ 9, 19,  7], dtype=int32)"
      ]
     },
     "execution_count": 23,
     "metadata": {},
     "output_type": "execute_result"
    }
   ],
   "source": [
    "idx"
   ]
  },
  {
   "cell_type": "code",
   "execution_count": 22,
   "metadata": {},
   "outputs": [
    {
     "data": {
      "text/plain": [
       "Array([ 0.00000000e+00,  0.00000000e+00,  0.00000000e+00,  0.00000000e+00,\n",
       "        0.00000000e+00, -2.59762239e-01,  0.00000000e+00, -6.93889390e-15,\n",
       "        0.00000000e+00, -3.89965837e-15,  0.00000000e+00,  0.00000000e+00,\n",
       "        0.00000000e+00,  0.00000000e+00,  0.00000000e+00,  0.00000000e+00,\n",
       "        0.00000000e+00,  0.00000000e+00,  0.00000000e+00, -2.04523898e-15],      dtype=float64)"
      ]
     },
     "execution_count": 22,
     "metadata": {},
     "output_type": "execute_result"
    }
   ],
   "source": [
    "(new_state.embedding.h_out - state.embedding.h_out).sum(-1)"
   ]
  },
  {
   "cell_type": "code",
   "execution_count": 189,
   "metadata": {},
   "outputs": [
    {
     "data": {
      "text/plain": [
       "Array([0., 0., 0., 0., 0., 0., 0., 0., 0., 0., 0., 0., 0., 0., 0., 0., 0.,\n",
       "       0., 0., 0.], dtype=float64)"
      ]
     },
     "execution_count": 189,
     "metadata": {},
     "output_type": "execute_result"
    }
   ],
   "source": [
    "(new_state.embedding.h_out - prev_state.embedding.h_out).sum(-1)"
   ]
  },
  {
   "cell_type": "code",
   "execution_count": 190,
   "metadata": {},
   "outputs": [
    {
     "data": {
      "text/plain": [
       "Array([ 0.00000000e+00,  0.00000000e+00,  0.00000000e+00,  0.00000000e+00,\n",
       "        0.00000000e+00,  0.00000000e+00,  0.00000000e+00,  1.24866167e+01,\n",
       "       -3.66057865e-06,  0.00000000e+00,  0.00000000e+00,  0.00000000e+00,\n",
       "        0.00000000e+00,  0.00000000e+00,  0.00000000e+00,  0.00000000e+00,\n",
       "        1.93650218e-03,  0.00000000e+00,  0.00000000e+00,  1.93818585e-03],      dtype=float64)"
      ]
     },
     "execution_count": 190,
     "metadata": {},
     "output_type": "execute_result"
    }
   ],
   "source": [
    "(state.embedding.h_out - prev_state.embedding.h_out).sum(-1)"
   ]
  },
  {
   "cell_type": "code",
   "execution_count": 48,
   "metadata": {},
   "outputs": [
    {
     "data": {
      "text/plain": [
       "Array([[[ 0.00000000e+00,  0.00000000e+00,  0.00000000e+00, ...,\n",
       "          0.00000000e+00,  0.00000000e+00,  0.00000000e+00],\n",
       "        [ 0.00000000e+00,  0.00000000e+00,  0.00000000e+00, ...,\n",
       "          0.00000000e+00,  0.00000000e+00,  0.00000000e+00]],\n",
       "\n",
       "       [[-2.08213926e-02,  3.87600502e-02,  2.00341720e-02, ...,\n",
       "         -4.01084727e-04,  6.15049317e-02, -7.62647006e-02],\n",
       "        [ 1.81537854e-06,  1.82269497e-05,  1.29904522e-05, ...,\n",
       "         -9.27508612e-06,  1.09319851e-05, -1.33177839e-05]],\n",
       "\n",
       "       [[-4.00713198e-02,  1.61914462e-01,  1.00967009e-01, ...,\n",
       "         -4.09011428e-01, -2.02309909e-01,  2.88780137e-01],\n",
       "        [ 3.50825101e-06,  1.63049997e-05,  1.52910623e-05, ...,\n",
       "          3.46505555e-07,  1.76055921e-05, -1.90350749e-05]],\n",
       "\n",
       "       ...,\n",
       "\n",
       "       [[ 0.00000000e+00,  0.00000000e+00,  0.00000000e+00, ...,\n",
       "          0.00000000e+00,  0.00000000e+00,  0.00000000e+00],\n",
       "        [ 0.00000000e+00,  0.00000000e+00,  0.00000000e+00, ...,\n",
       "          0.00000000e+00,  0.00000000e+00,  0.00000000e+00]],\n",
       "\n",
       "       [[ 0.00000000e+00,  0.00000000e+00,  0.00000000e+00, ...,\n",
       "          0.00000000e+00,  0.00000000e+00,  0.00000000e+00],\n",
       "        [ 0.00000000e+00,  0.00000000e+00,  0.00000000e+00, ...,\n",
       "          0.00000000e+00,  0.00000000e+00,  0.00000000e+00]],\n",
       "\n",
       "       [[-5.53019455e-02,  2.27924477e-01, -1.02135172e-01, ...,\n",
       "          2.55610648e-01,  3.71061768e-01, -3.96640111e-01],\n",
       "        [-9.09202934e-06,  1.54526238e-03,  1.16976333e-03, ...,\n",
       "         -5.39922749e-04,  5.63532406e-04, -1.19884626e-03]]],      dtype=float64)"
      ]
     },
     "execution_count": 48,
     "metadata": {},
     "output_type": "execute_result"
    }
   ],
   "source": []
  },
  {
   "cell_type": "code",
   "execution_count": null,
   "metadata": {},
   "outputs": [],
   "source": []
  }
 ],
 "metadata": {
  "kernelspec": {
   "display_name": "sparse",
   "language": "python",
   "name": "python3"
  },
  "language_info": {
   "codemirror_mode": {
    "name": "ipython",
    "version": 3
   },
   "file_extension": ".py",
   "mimetype": "text/x-python",
   "name": "python",
   "nbconvert_exporter": "python",
   "pygments_lexer": "ipython3",
   "version": "3.11.8"
  }
 },
 "nbformat": 4,
 "nbformat_minor": 2
}
